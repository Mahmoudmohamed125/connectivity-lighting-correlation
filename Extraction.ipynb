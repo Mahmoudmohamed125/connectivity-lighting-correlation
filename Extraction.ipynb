{
 "cells": [
  {
   "cell_type": "markdown",
   "metadata": {},
   "source": [
    "# Extracting datasets"
   ]
  },
  {
   "cell_type": "markdown",
   "metadata": {},
   "source": [
    "## Relevant Imports"
   ]
  },
  {
   "cell_type": "code",
   "execution_count": 1,
   "metadata": {},
   "outputs": [],
   "source": [
    "%matplotlib inline\n",
    "\n",
    "from datetime import datetime\n",
    "\n",
    "import geopandas as gpd\n",
    "import matplotlib\n",
    "import matplotlib.pyplot as plt\n",
    "import numpy as np\n",
    "import os\n",
    "import pandas as pd\n",
    "import rasterio\n",
    "\n",
    "from adjustText import adjust_text\n",
    "from shapely.geometry import Point, box\n",
    "from rasterio.mask import mask"
   ]
  },
  {
   "cell_type": "markdown",
   "metadata": {},
   "source": [
    "## VIIRS Data"
   ]
  },
  {
   "cell_type": "code",
   "execution_count": 2,
   "metadata": {},
   "outputs": [],
   "source": [
    "# Filepaths\n",
    "raster_file = r'VNL_v21_npp_2021_global_vcmslcfg_c202205302300.average.dat.tif'"
   ]
  },
  {
   "cell_type": "markdown",
   "metadata": {},
   "source": [
    "### Japan Data"
   ]
  },
  {
   "cell_type": "code",
   "execution_count": 3,
   "metadata": {},
   "outputs": [
    {
     "name": "stdout",
     "output_type": "stream",
     "text": [
      "[122.93391306  24.04561583 153.98667512  45.55723905]\n",
      "Raster Bounds: BoundingBox(left=-180.00208333335, bottom=-65.00208445335001, right=180.00208621335, top=75.00208333335)\n",
      "Japan Bounds: [122.93391306  24.04561583 153.98667512  45.55723905]\n"
     ]
    },
    {
     "name": "stderr",
     "output_type": "stream",
     "text": [
      "C:\\Users\\bodbo\\AppData\\Local\\Temp\\ipykernel_18376\\2288715962.py:16: DeprecationWarning: The 'unary_union' attribute is deprecated, use the 'union_all()' method instead.\n",
      "  if not raster_bounds.intersects(Japan.unary_union):\n"
     ]
    },
    {
     "name": "stdout",
     "output_type": "stream",
     "text": [
      "Extracted data saved to Japan_light_intensity.csv\n"
     ]
    }
   ],
   "source": [
    "# Filepaths\n",
    "boundary_file = r'boundaries\\geoBoundaries-JPN-ADM0.geojson'\n",
    "output_csv = r'Japan_light_intensity.csv'\n",
    "\n",
    "# Load Japan's Boundary\n",
    "Japan = gpd.read_file(boundary_file)\n",
    "Japan = Japan.to_crs(epsg=4326)\n",
    "\n",
    "# Open the Raster and Check Overlap\n",
    "with rasterio.open(raster_file) as src:\n",
    "    raster_bounds = box(*src.bounds)\n",
    "    print(\"Raster Bounds:\", src.bounds)\n",
    "    print(\"Japan Bounds:\", Japan.total_bounds)\n",
    "\n",
    "    if not raster_bounds.intersects(Japan.unary_union):\n",
    "        raise ValueError(\"Japan's boundary does not overlap with the raster extent.\")\n",
    "\n",
    "    # Clip the raster\n",
    "    Japan_geom_list = [feature[\"geometry\"] for feature in Japan.__geo_interface__[\"features\"]]\n",
    "    clipped_raster, clipped_transform = mask(src, Japan_geom_list, crop=True)\n",
    "\n",
    "# Extract Raster Values\n",
    "light_intensity = clipped_raster[0]\n",
    "rows, cols = np.where(~np.isnan(light_intensity))\n",
    "values = light_intensity[rows, cols]\n",
    "x_coords, y_coords = rasterio.transform.xy(clipped_transform, rows, cols)\n",
    "\n",
    "data = pd.DataFrame({\n",
    "    'longitude': x_coords,\n",
    "    'latitude': y_coords,\n",
    "    'light_intensity': values\n",
    "})\n",
    "data.to_csv(output_csv, index=False)\n",
    "print(f\"Extracted data saved to {output_csv}\")\n"
   ]
  },
  {
   "cell_type": "markdown",
   "metadata": {},
   "source": [
    "### Philippines Data"
   ]
  },
  {
   "cell_type": "code",
   "execution_count": 4,
   "metadata": {},
   "outputs": [
    {
     "name": "stdout",
     "output_type": "stream",
     "text": [
      "Raster Bounds: BoundingBox(left=-180.00208333335, bottom=-65.00208445335001, right=180.00208621335, top=75.00208333335)\n",
      "Philippines Bounds: [114.27790169   4.5872945  126.60495743  21.12178332]\n"
     ]
    },
    {
     "name": "stderr",
     "output_type": "stream",
     "text": [
      "C:\\Users\\bodbo\\AppData\\Local\\Temp\\ipykernel_18376\\1096979597.py:15: DeprecationWarning: The 'unary_union' attribute is deprecated, use the 'union_all()' method instead.\n",
      "  if not raster_bounds.intersects(Philippines.unary_union):\n"
     ]
    },
    {
     "name": "stdout",
     "output_type": "stream",
     "text": [
      "Extracted data saved to Philippines_light_intensity.csv\n"
     ]
    }
   ],
   "source": [
    "# Filepaths\n",
    "boundary_file = r'boundaries\\geoBoundaries-PHL-ADM0.geojson'\n",
    "output_csv = r'Philippines_light_intensity.csv'\n",
    "\n",
    "# Load Taiwan's Boundary\n",
    "Philippines = gpd.read_file(boundary_file)\n",
    "Philippines = Philippines.to_crs(epsg=4326)\n",
    "\n",
    "# Open the Raster and Check Overlap\n",
    "with rasterio.open(raster_file) as src:\n",
    "    raster_bounds = box(*src.bounds)\n",
    "    print(\"Raster Bounds:\", src.bounds)\n",
    "    print(\"Philippines Bounds:\", Philippines.total_bounds)\n",
    "\n",
    "    if not raster_bounds.intersects(Philippines.unary_union):\n",
    "        raise ValueError(\"Philippines's boundary does not overlap with the raster extent.\")\n",
    "\n",
    "    # Clip the raster\n",
    "    Philippines_geom_list = [feature[\"geometry\"] for feature in Philippines.__geo_interface__[\"features\"]]\n",
    "    clipped_raster, clipped_transform = mask(src, Philippines_geom_list, crop=True)\n",
    "\n",
    "# Extract Raster Values\n",
    "light_intensity = clipped_raster[0]\n",
    "rows, cols = np.where(~np.isnan(light_intensity))\n",
    "values = light_intensity[rows, cols]\n",
    "x_coords, y_coords = rasterio.transform.xy(clipped_transform, rows, cols)\n",
    "\n",
    "data = pd.DataFrame({\n",
    "    'longitude': x_coords,\n",
    "    'latitude': y_coords,\n",
    "    'light_intensity': values\n",
    "})\n",
    "data.to_csv(output_csv, index=False)\n",
    "print(f\"Extracted data saved to {output_csv}\")\n"
   ]
  },
  {
   "cell_type": "markdown",
   "metadata": {},
   "source": [
    "### Taiwan Data "
   ]
  },
  {
   "cell_type": "code",
   "execution_count": 5,
   "metadata": {},
   "outputs": [
    {
     "name": "stdout",
     "output_type": "stream",
     "text": [
      "Raster Bounds: BoundingBox(left=-180.00208333335, bottom=-65.00208445335001, right=180.00208621335, top=75.00208333335)\n",
      "Taiwan Bounds: [118.20920337  21.89259297 122.03704767  26.25789185]\n"
     ]
    },
    {
     "name": "stderr",
     "output_type": "stream",
     "text": [
      "C:\\Users\\bodbo\\AppData\\Local\\Temp\\ipykernel_18376\\122985106.py:15: DeprecationWarning: The 'unary_union' attribute is deprecated, use the 'union_all()' method instead.\n",
      "  if not raster_bounds.intersects(Taiwan.unary_union):\n"
     ]
    },
    {
     "name": "stdout",
     "output_type": "stream",
     "text": [
      "Extracted data saved to Taiwan_light_intensity.csv\n"
     ]
    }
   ],
   "source": [
    "# Filepaths\n",
    "boundary_file = r'boundaries\\geoBoundaries-TWN-ADM0.geojson'\n",
    "output_csv = r'Taiwan_light_intensity.csv'\n",
    "\n",
    "# Load Taiwan's Boundary\n",
    "Taiwan = gpd.read_file(boundary_file)\n",
    "Taiwan = Taiwan.to_crs(epsg=4326)\n",
    "\n",
    "# Open the Raster and Check Overlap\n",
    "with rasterio.open(raster_file) as src:\n",
    "    raster_bounds = box(*src.bounds)\n",
    "    print(\"Raster Bounds:\", src.bounds)\n",
    "    print(\"Taiwan Bounds:\", Taiwan.total_bounds)\n",
    "\n",
    "    if not raster_bounds.intersects(Taiwan.unary_union):\n",
    "        raise ValueError(\"Taiwan's boundary does not overlap with the raster extent.\")\n",
    "\n",
    "    # Clip the raster\n",
    "    Taiwan_geom_list = [feature[\"geometry\"] for feature in Taiwan.__geo_interface__[\"features\"]]\n",
    "    clipped_raster, clipped_transform = mask(src, Taiwan_geom_list, crop=True)\n",
    "\n",
    "# Extract Raster Values\n",
    "light_intensity = clipped_raster[0]\n",
    "rows, cols = np.where(~np.isnan(light_intensity))\n",
    "values = light_intensity[rows, cols]\n",
    "x_coords, y_coords = rasterio.transform.xy(clipped_transform, rows, cols)\n",
    "\n",
    "data = pd.DataFrame({\n",
    "    'longitude': x_coords,\n",
    "    'latitude': y_coords,\n",
    "    'light_intensity': values\n",
    "})\n",
    "data.to_csv(output_csv, index=False)\n",
    "print(f\"Extracted data saved to {output_csv}\")\n"
   ]
  },
  {
   "cell_type": "markdown",
   "metadata": {},
   "source": [
    "## Ookla Data"
   ]
  },
  {
   "cell_type": "markdown",
   "metadata": {},
   "source": [
    "### Helper Functions for Quarter Management"
   ]
  },
  {
   "cell_type": "code",
   "execution_count": 8,
   "metadata": {},
   "outputs": [],
   "source": [
    "def quarter_start(year: int, q: int) -> datetime:\n",
    "    if not 1 <= q <= 4:\n",
    "        raise ValueError(\"Quarter must be within [1, 2, 3, 4]\")\n",
    "\n",
    "    month = [1, 4, 7, 10]\n",
    "    return datetime(year, month[q - 1], 1)\n",
    "\n",
    "def get_tile_url(service_type: str, year: int, q: int) -> str:\n",
    "    dt = quarter_start(year, q)\n",
    "    base_url = \"https://ookla-open-data.s3-us-west-2.amazonaws.com/shapefiles/performance\"\n",
    "    url = f\"{base_url}/type%3D{service_type}/year%3D{dt:%Y}/quarter%3D{q}/{dt:%Y-%m-%d}_performance_{service_type}_tiles.zip\"\n",
    "    return url"
   ]
  },
  {
   "cell_type": "markdown",
   "metadata": {},
   "source": [
    "### Downloading and Processing All Quarters for 2021"
   ]
  },
  {
   "cell_type": "code",
   "execution_count": 9,
   "metadata": {},
   "outputs": [],
   "source": [
    "service_type = \"fixed\"  # Can be \"fixed\" or \"mobile\"\n",
    "year = 2021"
   ]
  },
  {
   "cell_type": "markdown",
   "metadata": {},
   "source": [
    "#### Defining the Boundaries"
   ]
  },
  {
   "cell_type": "code",
   "execution_count": 12,
   "metadata": {},
   "outputs": [],
   "source": [
    "boundaries_folder = \"./boundaries/\"\n",
    "geojson_files = {\n",
    "    \"Philippines\": os.path.join(boundaries_folder, \"geoBoundaries-PHL-ADM0.geojson\"),\n",
    "    \"Japan\": os.path.join(boundaries_folder, \"geoBoundaries-JPN-ADM0.geojson\"),\n",
    "    \"Taiwan\": os.path.join(boundaries_folder, \"geoBoundaries-TWN-ADM0.geojson\"),\n",
    "}"
   ]
  },
  {
   "cell_type": "markdown",
   "metadata": {},
   "source": [
    "#### Extracting the Data"
   ]
  },
  {
   "cell_type": "code",
   "execution_count": 13,
   "metadata": {},
   "outputs": [
    {
     "name": "stdout",
     "output_type": "stream",
     "text": [
      "Fetching data from: https://ookla-open-data.s3-us-west-2.amazonaws.com/shapefiles/performance/type%3Dfixed/year%3D2021/quarter%3D1/2021-01-01_performance_fixed_tiles.zip\n",
      "Fetching data from: https://ookla-open-data.s3-us-west-2.amazonaws.com/shapefiles/performance/type%3Dfixed/year%3D2021/quarter%3D2/2021-04-01_performance_fixed_tiles.zip\n",
      "Fetching data from: https://ookla-open-data.s3-us-west-2.amazonaws.com/shapefiles/performance/type%3Dfixed/year%3D2021/quarter%3D3/2021-07-01_performance_fixed_tiles.zip\n",
      "Fetching data from: https://ookla-open-data.s3-us-west-2.amazonaws.com/shapefiles/performance/type%3Dfixed/year%3D2021/quarter%3D4/2021-10-01_performance_fixed_tiles.zip\n",
      "Combined tiles data:\n",
      "            quadkey  avg_d_kbps  avg_u_kbps  avg_lat_ms  tests  devices  \\\n",
      "0  1323012130133323       48367       43153          16      6        2   \n",
      "1  1323012130311101        4690        3953          27      1        1   \n",
      "2  1323012130311103        9005        2289          25      1        1   \n",
      "3  1323012130311112       25506       79654          10      1        1   \n",
      "4  1323012130311130       45929       26594          14     11        3   \n",
      "\n",
      "                                            geometry quarter  index_right  \\\n",
      "0  POLYGON ((120.56946 18.48482, 120.57495 18.484...      Q1            0   \n",
      "1  POLYGON ((120.56946 18.47961, 120.57495 18.479...      Q1            0   \n",
      "2  POLYGON ((120.56946 18.4744, 120.57495 18.4744...      Q1            0   \n",
      "3  POLYGON ((120.57495 18.4744, 120.58044 18.4744...      Q1            0   \n",
      "4  POLYGON ((120.57495 18.46919, 120.58044 18.469...      Q1            0   \n",
      "\n",
      "         shapeName shapeISO                  shapeID shapeGroup shapeType  \\\n",
      "0  The Philippines           24100683B85265433280220        PHL      ADM0   \n",
      "1  The Philippines           24100683B85265433280220        PHL      ADM0   \n",
      "2  The Philippines           24100683B85265433280220        PHL      ADM0   \n",
      "3  The Philippines           24100683B85265433280220        PHL      ADM0   \n",
      "4  The Philippines           24100683B85265433280220        PHL      ADM0   \n",
      "\n",
      "   avg_d_mbps  avg_u_mbps      country  year  \n",
      "0      48.367      43.153  Philippines  2021  \n",
      "1       4.690       3.953  Philippines  2021  \n",
      "2       9.005       2.289  Philippines  2021  \n",
      "3      25.506      79.654  Philippines  2021  \n",
      "4      45.929      26.594  Philippines  2021  \n"
     ]
    }
   ],
   "source": [
    "# Initialize an empty list to store all combined data\n",
    "all_tiles = []\n",
    "\n",
    "for q in range(1, 5):  # Loop through quarters\n",
    "    tile_url = get_tile_url(service_type, year, q)\n",
    "    print(f\"Fetching data from: {tile_url}\")\n",
    "\n",
    "    # Read the tiles for the specific quarter\n",
    "    tiles = gpd.read_file(tile_url)\n",
    "    tiles[\"quarter\"] = f\"Q{q}\"  # Add quarter column\n",
    "\n",
    "    for country, geojson_path in geojson_files.items():\n",
    "        # Load the boundary from GeoJSON file\n",
    "        boundary = gpd.read_file(geojson_path)\n",
    "        boundary = boundary.to_crs(4326)  # Ensure CRS matches the tiles\n",
    "\n",
    "        # Perform spatial join between tiles and the country's boundary\n",
    "        country_tiles = gpd.sjoin(tiles, boundary, how=\"inner\", predicate='intersects')\n",
    "\n",
    "        # Convert speeds to Mbps\n",
    "        country_tiles['avg_d_mbps'] = country_tiles['avg_d_kbps'] / 1000\n",
    "        country_tiles['avg_u_mbps'] = country_tiles['avg_u_kbps'] / 1000\n",
    "        country_tiles['country'] = country  # Add a column to distinguish countries\n",
    "        country_tiles['year'] = year  # Add year column\n",
    "\n",
    "        # Append to the list\n",
    "        all_tiles.append(country_tiles)\n",
    "\n",
    "# Combine all results into a single GeoDataFrame\n",
    "combined_tiles = gpd.GeoDataFrame(pd.concat(all_tiles, ignore_index=True))\n",
    "print(\"Combined tiles data:\")\n",
    "print(combined_tiles.head())\n",
    "\n",
    "# Save combined data to CSV\n",
    "combined_tiles.to_csv(\"combined_tiles_2021.csv\", index=False)"
   ]
  },
  {
   "cell_type": "code",
   "execution_count": null,
   "metadata": {},
   "outputs": [],
   "source": [
    "# Japan processing with normalization\n",
    "# Filepaths\n",
    "boundaries_folder = \"./boundaries/\"\n",
    "raster_file = './SVDNB_npp_20230101-20230131_75N060E_vcmcfg_v10_c202302080600.avg_rade9h.tif'\n",
    "boundary_file = os.path.join(boundaries_folder, \"geoBoundaries-JPN-ADM0.geojson\")\n",
    "\n",
    "# Output folder\n",
    "output_folder = './output_data/'\n",
    "os.makedirs(output_folder, exist_ok=True)\n",
    "\n",
    "# Load Japan's boundary\n",
    "Japan = gpd.read_file(boundary_file)\n",
    "Japan = Japan.to_crs(epsg=4326)\n",
    "\n",
    "print(\"Japan Bounds:\", Japan.total_bounds)\n",
    "\n",
    "# Open the Raster and Check Overlap\n",
    "with rasterio.open(raster_file) as src:\n",
    "    raster_bounds = box(*src.bounds)\n",
    "    print(\"Raster Bounds:\", src.bounds)\n",
    "    if not raster_bounds.intersects(Japan.unary_union):\n",
    "        raise ValueError(\"Japan's boundary does not overlap with the raster extent.\")\n",
    "    \n",
    "    # Clip the raster\n",
    "    Japan_geom_list = [feature[\"geometry\"] for feature in Japan.__geo_interface__[\"features\"]]\n",
    "    clipped_raster, clipped_transform = mask(src, Japan_geom_list, crop=True)\n",
    "\n",
    "# Extract Raster Values\n",
    "light_intensity = clipped_raster[0]\n",
    "rows, cols = np.where(~np.isnan(light_intensity))\n",
    "values = light_intensity[rows, cols]\n",
    "x_coords, y_coords = rasterio.transform.xy(clipped_transform, rows, cols)\n",
    "\n",
    "# Normalize the radiance values\n",
    "min_value = np.min(values)\n",
    "max_value = np.max(values)\n",
    "normalized_values = (values - min_value) / (max_value - min_value)\n",
    "\n",
    "# Save extracted data to CSV\n",
    "data = pd.DataFrame({\n",
    "    'longitude': x_coords,\n",
    "    'latitude': y_coords,\n",
    "    'light_intensity': normalized_values\n",
    "})\n",
    "output_csv = os.path.join(output_folder, 'Japan_light_intensity_normalized.csv')\n",
    "data.to_csv(output_csv, index=False)\n",
    "print(f\"Normalized data for Japan saved to {output_csv}\")\n"
   ]
  },
  {
   "cell_type": "code",
   "execution_count": null,
   "metadata": {},
   "outputs": [],
   "source": [
    "# Taiwan processing with normalization\n",
    "\n",
    "# Taiwan's boundary file\n",
    "boundary_file = os.path.join(boundaries_folder, \"geoBoundaries-TWN-ADM0.geojson\")\n",
    "\n",
    "# Load Taiwan's boundary\n",
    "Taiwan = gpd.read_file(boundary_file)\n",
    "Taiwan = Taiwan.to_crs(epsg=4326)\n",
    "\n",
    "print(\"Taiwan Bounds:\", Taiwan.total_bounds)\n",
    "\n",
    "# Open the Raster and Check Overlap\n",
    "with rasterio.open(raster_file) as src:\n",
    "    raster_bounds = box(*src.bounds)\n",
    "    print(\"Raster Bounds:\", src.bounds)\n",
    "    if not raster_bounds.intersects(Taiwan.unary_union):\n",
    "        raise ValueError(\"Taiwan's boundary does not overlap with the raster extent.\")\n",
    "    \n",
    "    # Clip the raster\n",
    "    Taiwan_geom_list = [feature[\"geometry\"] for feature in Taiwan.__geo_interface__[\"features\"]]\n",
    "    clipped_raster, clipped_transform = mask(src, Taiwan_geom_list, crop=True)\n",
    "\n",
    "# Extract Raster Values\n",
    "light_intensity = clipped_raster[0]\n",
    "rows, cols = np.where(~np.isnan(light_intensity))\n",
    "values = light_intensity[rows, cols]\n",
    "x_coords, y_coords = rasterio.transform.xy(clipped_transform, rows, cols)\n",
    "\n",
    "# Normalize the radiance values\n",
    "min_value = np.min(values)\n",
    "max_value = np.max(values)\n",
    "normalized_values = (values - min_value) / (max_value - min_value)\n",
    "\n",
    "# Save extracted data to CSV\n",
    "data = pd.DataFrame({\n",
    "    'longitude': x_coords,\n",
    "    'latitude': y_coords,\n",
    "    'light_intensity': normalized_values\n",
    "})\n",
    "output_csv = os.path.join(output_folder, 'Taiwan_light_intensity_normalized.csv')\n",
    "data.to_csv(output_csv, index=False)\n",
    "print(f\"Normalized data for Taiwan saved to {output_csv}\")\n"
   ]
  },
  {
   "cell_type": "code",
   "execution_count": 1,
   "metadata": {},
   "outputs": [
    {
     "ename": "NameError",
     "evalue": "name 'os' is not defined",
     "output_type": "error",
     "traceback": [
      "\u001b[1;31m---------------------------------------------------------------------------\u001b[0m",
      "\u001b[1;31mNameError\u001b[0m                                 Traceback (most recent call last)",
      "Cell \u001b[1;32mIn[1], line 4\u001b[0m\n\u001b[0;32m      1\u001b[0m \u001b[38;5;66;03m# Philippines processing with normalization\u001b[39;00m\n\u001b[0;32m      2\u001b[0m \n\u001b[0;32m      3\u001b[0m \u001b[38;5;66;03m# Philippines' boundary file\u001b[39;00m\n\u001b[1;32m----> 4\u001b[0m boundary_file \u001b[38;5;241m=\u001b[39m \u001b[43mos\u001b[49m\u001b[38;5;241m.\u001b[39mpath\u001b[38;5;241m.\u001b[39mjoin(boundaries_folder, \u001b[38;5;124m\"\u001b[39m\u001b[38;5;124mgeoBoundaries-PHL-ADM0.geojson\u001b[39m\u001b[38;5;124m\"\u001b[39m)\n\u001b[0;32m      6\u001b[0m \u001b[38;5;66;03m# Load Philippines' boundary\u001b[39;00m\n\u001b[0;32m      7\u001b[0m Philippines \u001b[38;5;241m=\u001b[39m gpd\u001b[38;5;241m.\u001b[39mread_file(boundary_file)\n",
      "\u001b[1;31mNameError\u001b[0m: name 'os' is not defined"
     ]
    }
   ],
   "source": [
    "# Philippines processing with normalization\n",
    "\n",
    "# Philippines' boundary file\n",
    "boundary_file = os.path.join(boundaries_folder, \"geoBoundaries-PHL-ADM0.geojson\")\n",
    "\n",
    "# Load Philippines' boundary\n",
    "Philippines = gpd.read_file(boundary_file)\n",
    "Philippines = Philippines.to_crs(epsg=4326)\n",
    "\n",
    "print(\"Philippines Bounds:\", Philippines.total_bounds)\n",
    "\n",
    "# Open the Raster and Check Overlap\n",
    "with rasterio.open(raster_file) as src:\n",
    "    raster_bounds = box(*src.bounds)\n",
    "    print(\"Raster Bounds:\", src.bounds)\n",
    "    if not raster_bounds.intersects(Philippines.unary_union):\n",
    "        raise ValueError(\"Philippines' boundary does not overlap with the raster extent.\")\n",
    "    \n",
    "    # Clip the raster\n",
    "    Philippines_geom_list = [feature[\"geometry\"] for feature in Philippines.__geo_interface__[\"features\"]]\n",
    "    clipped_raster, clipped_transform = mask(src, Philippines_geom_list, crop=True)\n",
    "\n",
    "# Extract Raster Values\n",
    "light_intensity = clipped_raster[0]\n",
    "rows, cols = np.where(~np.isnan(light_intensity))\n",
    "values = light_intensity[rows, cols]\n",
    "x_coords, y_coords = rasterio.transform.xy(clipped_transform, rows, cols)\n",
    "\n",
    "# Normalize the radiance values\n",
    "min_value = np.min(values)\n",
    "max_value = np.max(values)\n",
    "normalized_values = (values - min_value) / (max_value - min_value)\n",
    "\n",
    "# Save extracted data to CSV\n",
    "data = pd.DataFrame({\n",
    "    'longitude': x_coords,\n",
    "    'latitude': y_coords,\n",
    "    'light_intensity': normalized_values\n",
    "})\n",
    "output_csv = os.path.join(output_folder, 'Philippines_light_intensity_normalized.csv')\n",
    "data.to_csv(output_csv, index=False)\n",
    "print(f\"Normalized data for Philippines saved to {output_csv}\")\n"
   ]
  },
  {
   "cell_type": "code",
   "execution_count": null,
   "metadata": {},
   "outputs": [],
   "source": []
  }
 ],
 "metadata": {
  "kernelspec": {
   "display_name": "Python 3",
   "language": "python",
   "name": "python3"
  },
  "language_info": {
   "codemirror_mode": {
    "name": "ipython",
    "version": 3
   },
   "file_extension": ".py",
   "mimetype": "text/x-python",
   "name": "python",
   "nbconvert_exporter": "python",
   "pygments_lexer": "ipython3",
   "version": "3.12.5"
  }
 },
 "nbformat": 4,
 "nbformat_minor": 2
}
