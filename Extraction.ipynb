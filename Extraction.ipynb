{
 "cells": [
  {
   "cell_type": "markdown",
   "metadata": {},
   "source": [
    "# Extracting datasets"
   ]
  },
  {
   "cell_type": "markdown",
   "metadata": {},
   "source": [
    "## Relevant Imports"
   ]
  },
  {
   "cell_type": "code",
   "execution_count": 2,
   "metadata": {},
   "outputs": [],
   "source": [
    "%matplotlib inline\n",
    "\n",
    "from datetime import datetime\n",
    "\n",
    "import geopandas as gpd\n",
    "import numpy as np\n",
    "import os\n",
    "import pandas as pd\n",
    "import rasterio\n",
    "\n",
    "from shapely.geometry import box\n",
    "from rasterio.mask import mask"
   ]
  },
  {
   "cell_type": "markdown",
   "metadata": {},
   "source": [
    "## VIIRS Data"
   ]
  },
  {
   "cell_type": "markdown",
   "metadata": {},
   "source": [
    "### Raster Filepaths"
   ]
  },
  {
   "cell_type": "code",
   "execution_count": 2,
   "metadata": {},
   "outputs": [],
   "source": [
    "raster_files = {\n",
    "    2020: r'VNL_v21_npp_2020_global_vcmslcfg_c202205302300.average.dat.tif',\n",
    "    2021: r'VNL_v21_npp_2021_global_vcmslcfg_c202205302300.average.dat.tif'\n",
    "}"
   ]
  },
  {
   "cell_type": "markdown",
   "metadata": {},
   "source": [
    "### Japan Data"
   ]
  },
  {
   "cell_type": "code",
   "execution_count": 3,
   "metadata": {},
   "outputs": [
    {
     "name": "stdout",
     "output_type": "stream",
     "text": [
      "Processing Year: 2020\n",
      "Raster Bounds: BoundingBox(left=-180.00208333335, bottom=-65.00208445335001, right=180.00208621335, top=75.00208333335)\n",
      "Japan Bounds: [122.93391306  24.04561583 153.98667512  45.55723905]\n"
     ]
    },
    {
     "name": "stderr",
     "output_type": "stream",
     "text": [
      "C:\\Users\\bodbo\\AppData\\Local\\Temp\\ipykernel_20264\\4251772020.py:20: DeprecationWarning: The 'unary_union' attribute is deprecated, use the 'union_all()' method instead.\n",
      "  if not raster_bounds.intersects(Japan.unary_union):\n"
     ]
    },
    {
     "name": "stdout",
     "output_type": "stream",
     "text": [
      "Processing Year: 2021\n",
      "Raster Bounds: BoundingBox(left=-180.00208333335, bottom=-65.00208445335001, right=180.00208621335, top=75.00208333335)\n",
      "Japan Bounds: [122.93391306  24.04561583 153.98667512  45.55723905]\n"
     ]
    },
    {
     "name": "stderr",
     "output_type": "stream",
     "text": [
      "C:\\Users\\bodbo\\AppData\\Local\\Temp\\ipykernel_20264\\4251772020.py:20: DeprecationWarning: The 'unary_union' attribute is deprecated, use the 'union_all()' method instead.\n",
      "  if not raster_bounds.intersects(Japan.unary_union):\n"
     ]
    },
    {
     "name": "stdout",
     "output_type": "stream",
     "text": [
      "Extracted data saved to datasets/inputs/Japan_light_intensity.csv\n"
     ]
    }
   ],
   "source": [
    "# Filepaths\n",
    "boundary_file = r'boundaries/geoBoundaries-JPN-ADM0.geojson'\n",
    "output_csv = r'datasets/inputs/Japan_light_intensity.csv'\n",
    "\n",
    "# Loading Japan's Boundary\n",
    "Japan = gpd.read_file(boundary_file)\n",
    "Japan = Japan.to_crs(epsg=4326)\n",
    "\n",
    "# Initializing an empty list to store data\n",
    "all_data = []\n",
    "\n",
    "# Looping through each raster file and extracting data\n",
    "for year, raster_file in raster_files.items():\n",
    "    with rasterio.open(raster_file) as src:\n",
    "        raster_bounds = box(*src.bounds)\n",
    "        print(f\"Processing Year: {year}\")\n",
    "        print(\"Raster Bounds:\", src.bounds)\n",
    "        print(\"Japan Bounds:\", Japan.total_bounds)\n",
    "\n",
    "        if not raster_bounds.intersects(Japan.unary_union):\n",
    "            raise ValueError(f\"Japan's boundary does not overlap with the raster extent for {year}.\")\n",
    "\n",
    "        # Clipping the raster\n",
    "        Japan_geom_list = [feature[\"geometry\"] for feature in Japan.__geo_interface__[\"features\"]]\n",
    "        clipped_raster, clipped_transform = mask(src, Japan_geom_list, crop=True)\n",
    "\n",
    "        # Extracting Raster Values\n",
    "        light_intensity = clipped_raster[0]\n",
    "        rows, cols = np.where(~np.isnan(light_intensity))\n",
    "        values = light_intensity[rows, cols]\n",
    "        x_coords, y_coords = rasterio.transform.xy(clipped_transform, rows, cols)\n",
    "\n",
    "        # Storing data with year column\n",
    "        data = pd.DataFrame({\n",
    "            'longitude': x_coords,\n",
    "            'latitude': y_coords,\n",
    "            'light_intensity': values,\n",
    "            'year': year\n",
    "        })\n",
    "        all_data.append(data)\n",
    "\n",
    "# Combining data from all years\n",
    "combined_data = pd.concat(all_data, ignore_index=True)\n",
    "\n",
    "# Saving to a single CSV file\n",
    "combined_data.to_csv(output_csv, index=False)\n",
    "print(f\"Extracted data saved to {output_csv}\")"
   ]
  },
  {
   "cell_type": "markdown",
   "metadata": {},
   "source": [
    "### Philippines Data"
   ]
  },
  {
   "cell_type": "code",
   "execution_count": 5,
   "metadata": {},
   "outputs": [
    {
     "name": "stdout",
     "output_type": "stream",
     "text": [
      "Processing Year: 2020\n",
      "Raster Bounds: BoundingBox(left=-180.00208333335, bottom=-65.00208445335001, right=180.00208621335, top=75.00208333335)\n",
      "Philippines Bounds: [114.27790169   4.5872945  126.60495743  21.12178332]\n"
     ]
    },
    {
     "name": "stderr",
     "output_type": "stream",
     "text": [
      "C:\\Users\\bodbo\\AppData\\Local\\Temp\\ipykernel_20264\\1113319625.py:20: DeprecationWarning: The 'unary_union' attribute is deprecated, use the 'union_all()' method instead.\n",
      "  if not raster_bounds.intersects(Philippines.unary_union):\n"
     ]
    },
    {
     "name": "stdout",
     "output_type": "stream",
     "text": [
      "Processing Year: 2021\n",
      "Raster Bounds: BoundingBox(left=-180.00208333335, bottom=-65.00208445335001, right=180.00208621335, top=75.00208333335)\n",
      "Philippines Bounds: [114.27790169   4.5872945  126.60495743  21.12178332]\n"
     ]
    },
    {
     "name": "stderr",
     "output_type": "stream",
     "text": [
      "C:\\Users\\bodbo\\AppData\\Local\\Temp\\ipykernel_20264\\1113319625.py:20: DeprecationWarning: The 'unary_union' attribute is deprecated, use the 'union_all()' method instead.\n",
      "  if not raster_bounds.intersects(Philippines.unary_union):\n"
     ]
    },
    {
     "name": "stdout",
     "output_type": "stream",
     "text": [
      "Extracted data saved to datasets/inputs/Philippines_light_intensity.csv\n"
     ]
    }
   ],
   "source": [
    "# Filepaths\n",
    "boundary_file = r'boundaries/geoBoundaries-PHL-ADM0.geojson'\n",
    "output_csv = r'datasets/inputs/Philippines_light_intensity.csv'\n",
    "\n",
    "# Loading Philippines's Boundary\n",
    "Philippines = gpd.read_file(boundary_file)\n",
    "Philippines = Philippines.to_crs(epsg=4326)\n",
    "\n",
    "# Initializing an empty list to store data\n",
    "all_data = []\n",
    "\n",
    "# Looping through each raster file and extracting data\n",
    "for year, raster_file in raster_files.items():\n",
    "    with rasterio.open(raster_file) as src:\n",
    "        raster_bounds = box(*src.bounds)\n",
    "        print(f\"Processing Year: {year}\")\n",
    "        print(\"Raster Bounds:\", src.bounds)\n",
    "        print(\"Philippines Bounds:\", Philippines.total_bounds)\n",
    "\n",
    "        if not raster_bounds.intersects(Philippines.unary_union):\n",
    "            raise ValueError(f\"Philippines's boundary does not overlap with the raster extent for {year}.\")\n",
    "\n",
    "        # Clipping the raster\n",
    "        Philippines_geom_list = [feature[\"geometry\"] for feature in Philippines.__geo_interface__[\"features\"]]\n",
    "        clipped_raster, clipped_transform = mask(src, Philippines_geom_list, crop=True)\n",
    "\n",
    "        # Extracting Raster Values\n",
    "        light_intensity = clipped_raster[0]\n",
    "        rows, cols = np.where(~np.isnan(light_intensity))\n",
    "        values = light_intensity[rows, cols]\n",
    "        x_coords, y_coords = rasterio.transform.xy(clipped_transform, rows, cols)\n",
    "\n",
    "        # Storing data with year column\n",
    "        data = pd.DataFrame({\n",
    "            'longitude': x_coords,\n",
    "            'latitude': y_coords,\n",
    "            'light_intensity': values,\n",
    "            'year': year\n",
    "        })\n",
    "        all_data.append(data)\n",
    "\n",
    "# Combining data from all years\n",
    "combined_data = pd.concat(all_data, ignore_index=True)\n",
    "\n",
    "# Saving to a single CSV file\n",
    "combined_data.to_csv(output_csv, index=False)\n",
    "print(f\"Extracted data saved to {output_csv}\")"
   ]
  },
  {
   "cell_type": "markdown",
   "metadata": {},
   "source": [
    "### Taiwan Data "
   ]
  },
  {
   "cell_type": "code",
   "execution_count": 6,
   "metadata": {},
   "outputs": [
    {
     "name": "stdout",
     "output_type": "stream",
     "text": [
      "Processing Year: 2020\n",
      "Raster Bounds: BoundingBox(left=-180.00208333335, bottom=-65.00208445335001, right=180.00208621335, top=75.00208333335)\n",
      "Taiwan Bounds: [118.20920337  21.89259297 122.03704767  26.25789185]\n"
     ]
    },
    {
     "name": "stderr",
     "output_type": "stream",
     "text": [
      "C:\\Users\\bodbo\\AppData\\Local\\Temp\\ipykernel_20264\\3839077368.py:20: DeprecationWarning: The 'unary_union' attribute is deprecated, use the 'union_all()' method instead.\n",
      "  if not raster_bounds.intersects(Taiwan.unary_union):\n"
     ]
    },
    {
     "name": "stdout",
     "output_type": "stream",
     "text": [
      "Processing Year: 2021\n",
      "Raster Bounds: BoundingBox(left=-180.00208333335, bottom=-65.00208445335001, right=180.00208621335, top=75.00208333335)\n",
      "Taiwan Bounds: [118.20920337  21.89259297 122.03704767  26.25789185]\n"
     ]
    },
    {
     "name": "stderr",
     "output_type": "stream",
     "text": [
      "C:\\Users\\bodbo\\AppData\\Local\\Temp\\ipykernel_20264\\3839077368.py:20: DeprecationWarning: The 'unary_union' attribute is deprecated, use the 'union_all()' method instead.\n",
      "  if not raster_bounds.intersects(Taiwan.unary_union):\n"
     ]
    },
    {
     "name": "stdout",
     "output_type": "stream",
     "text": [
      "Extracted data saved to datasets/inputs/Taiwan_light_intensity.csv\n"
     ]
    }
   ],
   "source": [
    "# Filepaths\n",
    "boundary_file = r'boundaries/geoBoundaries-TWN-ADM0.geojson'\n",
    "output_csv = r'datasets/inputs/Taiwan_light_intensity.csv'\n",
    "\n",
    "# Loading Taiwan's Boundary\n",
    "Taiwan = gpd.read_file(boundary_file)\n",
    "Taiwan = Taiwan.to_crs(epsg=4326)\n",
    "\n",
    "# Initializing an empty list to store data\n",
    "all_data = []\n",
    "\n",
    "# Looping through each raster file and extracting data\n",
    "for year, raster_file in raster_files.items():\n",
    "    with rasterio.open(raster_file) as src:\n",
    "        raster_bounds = box(*src.bounds)\n",
    "        print(f\"Processing Year: {year}\")\n",
    "        print(\"Raster Bounds:\", src.bounds)\n",
    "        print(\"Taiwan Bounds:\", Taiwan.total_bounds)\n",
    "\n",
    "        if not raster_bounds.intersects(Taiwan.unary_union):\n",
    "            raise ValueError(f\"Taiwan's boundary does not overlap with the raster extent for {year}.\")\n",
    "\n",
    "        # Clipping the raster\n",
    "        Taiwan_geom_list = [feature[\"geometry\"] for feature in Taiwan.__geo_interface__[\"features\"]]\n",
    "        clipped_raster, clipped_transform = mask(src, Taiwan_geom_list, crop=True)\n",
    "\n",
    "        # Extracting Raster Values\n",
    "        light_intensity = clipped_raster[0]\n",
    "        rows, cols = np.where(~np.isnan(light_intensity))\n",
    "        values = light_intensity[rows, cols]\n",
    "        x_coords, y_coords = rasterio.transform.xy(clipped_transform, rows, cols)\n",
    "\n",
    "        # Storing data with year column\n",
    "        data = pd.DataFrame({\n",
    "            'longitude': x_coords,\n",
    "            'latitude': y_coords,\n",
    "            'light_intensity': values,\n",
    "            'year': year\n",
    "        })\n",
    "        all_data.append(data)\n",
    "\n",
    "# Combining data from all years\n",
    "combined_data = pd.concat(all_data, ignore_index=True)\n",
    "\n",
    "# Saving to a single CSV file\n",
    "combined_data.to_csv(output_csv, index=False)\n",
    "print(f\"Extracted data saved to {output_csv}\")"
   ]
  },
  {
   "cell_type": "markdown",
   "metadata": {},
   "source": [
    "## Ookla Data"
   ]
  },
  {
   "cell_type": "markdown",
   "metadata": {},
   "source": [
    "### Helper Functions for Quarter Management"
   ]
  },
  {
   "cell_type": "code",
   "execution_count": 7,
   "metadata": {},
   "outputs": [],
   "source": [
    "def quarter_start(year: int, q: int) -> datetime:\n",
    "    if not 1 <= q <= 4:\n",
    "        raise ValueError(\"Quarter must be within [1, 2, 3, 4]\")\n",
    "\n",
    "    month = [1, 4, 7, 10]\n",
    "    return datetime(year, month[q - 1], 1)\n",
    "\n",
    "def get_tile_url(service_type: str, year: int, q: int) -> str:\n",
    "    dt = quarter_start(year, q)\n",
    "    base_url = \"https://ookla-open-data.s3-us-west-2.amazonaws.com/shapefiles/performance\"\n",
    "    url = f\"{base_url}/type%3D{service_type}/year%3D{dt:%Y}/quarter%3D{q}/{dt:%Y-%m-%d}_performance_{service_type}_tiles.zip\"\n",
    "    return url"
   ]
  },
  {
   "cell_type": "markdown",
   "metadata": {},
   "source": [
    "### Downloading and Processing All Quarters for 2020, 2021"
   ]
  },
  {
   "cell_type": "code",
   "execution_count": 8,
   "metadata": {},
   "outputs": [],
   "source": [
    "service_type = \"fixed\"\n",
    "years = [2020, 2021]"
   ]
  },
  {
   "cell_type": "markdown",
   "metadata": {},
   "source": [
    "#### Defining the Boundaries"
   ]
  },
  {
   "cell_type": "code",
   "execution_count": 9,
   "metadata": {},
   "outputs": [],
   "source": [
    "boundaries_folder = \"./boundaries/\"\n",
    "geojson_files = {\n",
    "    \"Philippines\": os.path.join(boundaries_folder, \"geoBoundaries-PHL-ADM0.geojson\"),\n",
    "    \"Japan\": os.path.join(boundaries_folder, \"geoBoundaries-JPN-ADM0.geojson\"),\n",
    "    \"Taiwan\": os.path.join(boundaries_folder, \"geoBoundaries-TWN-ADM0.geojson\"),\n",
    "}"
   ]
  },
  {
   "cell_type": "markdown",
   "metadata": {},
   "source": [
    "#### Extracting the Data"
   ]
  },
  {
   "cell_type": "code",
   "execution_count": 10,
   "metadata": {},
   "outputs": [
    {
     "name": "stdout",
     "output_type": "stream",
     "text": [
      "Fetching data from: https://ookla-open-data.s3-us-west-2.amazonaws.com/shapefiles/performance/type%3Dfixed/year%3D2020/quarter%3D1/2020-01-01_performance_fixed_tiles.zip\n",
      "Fetching data from: https://ookla-open-data.s3-us-west-2.amazonaws.com/shapefiles/performance/type%3Dfixed/year%3D2020/quarter%3D2/2020-04-01_performance_fixed_tiles.zip\n",
      "Fetching data from: https://ookla-open-data.s3-us-west-2.amazonaws.com/shapefiles/performance/type%3Dfixed/year%3D2020/quarter%3D3/2020-07-01_performance_fixed_tiles.zip\n",
      "Fetching data from: https://ookla-open-data.s3-us-west-2.amazonaws.com/shapefiles/performance/type%3Dfixed/year%3D2020/quarter%3D4/2020-10-01_performance_fixed_tiles.zip\n",
      "Fetching data from: https://ookla-open-data.s3-us-west-2.amazonaws.com/shapefiles/performance/type%3Dfixed/year%3D2021/quarter%3D1/2021-01-01_performance_fixed_tiles.zip\n",
      "Fetching data from: https://ookla-open-data.s3-us-west-2.amazonaws.com/shapefiles/performance/type%3Dfixed/year%3D2021/quarter%3D2/2021-04-01_performance_fixed_tiles.zip\n",
      "Fetching data from: https://ookla-open-data.s3-us-west-2.amazonaws.com/shapefiles/performance/type%3Dfixed/year%3D2021/quarter%3D3/2021-07-01_performance_fixed_tiles.zip\n",
      "Fetching data from: https://ookla-open-data.s3-us-west-2.amazonaws.com/shapefiles/performance/type%3Dfixed/year%3D2021/quarter%3D4/2021-10-01_performance_fixed_tiles.zip\n",
      "Combined tiles data:\n",
      "            quadkey  avg_d_kbps  avg_u_kbps  avg_lat_ms  tests  devices  \\\n",
      "0  1323011032300102        3118        1267          44      1        1   \n",
      "1  1323011210311033        4303       15476          43     12        2   \n",
      "2  1323011210311122         835        4027          50      1        1   \n",
      "3  1323011210311221        1388        2286         773      3        2   \n",
      "4  1323011210311230         807         729        3624      3        2   \n",
      "\n",
      "                                            geometry quarter  year  \\\n",
      "0  POLYGON ((121.83838 20.79207, 121.84387 20.792...      Q1  2020   \n",
      "1  POLYGON ((121.96472 20.45275, 121.97021 20.452...      Q1  2020   \n",
      "2  POLYGON ((121.97021 20.45275, 121.97571 20.452...      Q1  2020   \n",
      "3  POLYGON ((121.95374 20.43731, 121.95923 20.437...      Q1  2020   \n",
      "4  POLYGON ((121.95923 20.43731, 121.96472 20.437...      Q1  2020   \n",
      "\n",
      "   index_right        shapeName shapeISO                  shapeID shapeGroup  \\\n",
      "0            0  The Philippines           24100683B85265433280220        PHL   \n",
      "1            0  The Philippines           24100683B85265433280220        PHL   \n",
      "2            0  The Philippines           24100683B85265433280220        PHL   \n",
      "3            0  The Philippines           24100683B85265433280220        PHL   \n",
      "4            0  The Philippines           24100683B85265433280220        PHL   \n",
      "\n",
      "  shapeType  avg_d_mbps  avg_u_mbps      country  \n",
      "0      ADM0       3.118       1.267  Philippines  \n",
      "1      ADM0       4.303      15.476  Philippines  \n",
      "2      ADM0       0.835       4.027  Philippines  \n",
      "3      ADM0       1.388       2.286  Philippines  \n",
      "4      ADM0       0.807       0.729  Philippines  \n"
     ]
    }
   ],
   "source": [
    "# Initialize an empty list to store all combined data\n",
    "all_tiles = []\n",
    "\n",
    "for year in years:  # Loop through years\n",
    "    for q in range(1, 5):  # Loop through quarters\n",
    "        tile_url = get_tile_url(service_type, year, q)\n",
    "        print(f\"Fetching data from: {tile_url}\")\n",
    "\n",
    "        # Read the tiles for the specific quarter\n",
    "        tiles = gpd.read_file(tile_url)\n",
    "        tiles[\"quarter\"] = f\"Q{q}\"  # Add quarter column\n",
    "        tiles[\"year\"] = year  # Add year column\n",
    "\n",
    "        for country, geojson_path in geojson_files.items():\n",
    "            # Load the boundary from GeoJSON file\n",
    "            boundary = gpd.read_file(geojson_path)\n",
    "            boundary = boundary.to_crs(4326)  # Ensure CRS matches the tiles\n",
    "\n",
    "            # Perform spatial join between tiles and the country's boundary\n",
    "            country_tiles = gpd.sjoin(tiles, boundary, how=\"inner\", predicate='intersects')\n",
    "\n",
    "            # Convert speeds to Mbps\n",
    "            country_tiles['avg_d_mbps'] = country_tiles['avg_d_kbps'] / 1000\n",
    "            country_tiles['avg_u_mbps'] = country_tiles['avg_u_kbps'] / 1000\n",
    "            country_tiles['country'] = country  # Add a column to distinguish countries\n",
    "\n",
    "            # Append to the list\n",
    "            all_tiles.append(country_tiles)\n",
    "\n",
    "# Combine all results into a single GeoDataFrame\n",
    "combined_tiles = gpd.GeoDataFrame(pd.concat(all_tiles, ignore_index=True))\n",
    "print(\"Combined tiles data:\")\n",
    "print(combined_tiles.head())\n",
    "\n",
    "# Save combined data to CSV\n",
    "combined_tiles.to_csv(\"datasets/inputs/Global_internet_combined_tiles.csv\", index=False)"
   ]
  },
  {
   "cell_type": "code",
   "execution_count": null,
   "metadata": {},
   "outputs": [
    {
     "name": "stderr",
     "output_type": "stream",
     "text": [
      "C:\\Users\\bodbo\\AppData\\Local\\Temp\\ipykernel_19052\\2968767147.py:1: DtypeWarning: Columns (11) have mixed types. Specify dtype option on import or set low_memory=False.\n",
      "  combined_tiles = pd.read_csv(\"datasets/inputs/Global_internet_combined_tiles.csv\")\n"
     ]
    },
    {
     "name": "stdout",
     "output_type": "stream",
     "text": [
      "Annual Ookla data saved to datasets/processed/annual_ookla_data.csv\n"
     ]
    }
   ],
   "source": [
    "combined_tiles = pd.read_csv(\"datasets/inputs/Global_internet_combined_tiles.csv\")\n",
    "\n",
    "# Group Ookla data by country, geometry, and year to consolidate quarterly data\n",
    "annual_ookla_data = combined_tiles.groupby(['geometry', 'country', 'year'], as_index=False).agg({\n",
    "    'avg_d_kbps': 'mean',\n",
    "    'avg_u_kbps': 'mean',\n",
    "    'avg_lat_ms': 'mean',\n",
    "    'tests': 'mean'\n",
    "})\n",
    "\n",
    "# Save the annual Ookla data to CSV for use in preprocessing\n",
    "annual_ookla_csv = \"datasets/inputs/Annual_ookla_data.csv\"\n",
    "annual_ookla_data.to_csv(annual_ookla_csv, index=False)\n",
    "print(f\"Annual Ookla data saved to {annual_ookla_csv}\")"
   ]
  }
 ],
 "metadata": {
  "kernelspec": {
   "display_name": "env",
   "language": "python",
   "name": "python3"
  },
  "language_info": {
   "codemirror_mode": {
    "name": "ipython",
    "version": 3
   },
   "file_extension": ".py",
   "mimetype": "text/x-python",
   "name": "python",
   "nbconvert_exporter": "python",
   "pygments_lexer": "ipython3",
   "version": "3.12.3"
  }
 },
 "nbformat": 4,
 "nbformat_minor": 2
}
