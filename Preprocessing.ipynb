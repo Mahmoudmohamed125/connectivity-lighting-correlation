{
 "cells": [
  {
   "cell_type": "markdown",
   "metadata": {},
   "source": [
    "# Data Preprocessing"
   ]
  },
  {
   "cell_type": "markdown",
   "metadata": {},
   "source": [
    "## Loading and Normalizing CSV Data"
   ]
  },
  {
   "cell_type": "markdown",
   "metadata": {},
   "source": [
    "### Relevant Imports"
   ]
  },
  {
   "cell_type": "code",
   "execution_count": 1,
   "metadata": {},
   "outputs": [],
   "source": [
    "import geopandas as gpd\n",
    "import pandas as pd"
   ]
  },
  {
   "cell_type": "markdown",
   "metadata": {},
   "source": [
    "### VIIRS Data"
   ]
  },
  {
   "cell_type": "markdown",
   "metadata": {},
   "source": [
    "#### Normalisation Method"
   ]
  },
  {
   "cell_type": "markdown",
   "metadata": {},
   "source": [
    "We'll use Min-Max Normalisation for our datasets.\n",
    "$$v' = \\frac{v - min_A}{max_A - min_A}$$"
   ]
  },
  {
   "cell_type": "markdown",
   "metadata": {},
   "source": [
    "#### Japan"
   ]
  },
  {
   "cell_type": "markdown",
   "metadata": {},
   "source": [
    "##### Light Intensity Normalization"
   ]
  },
  {
   "cell_type": "code",
   "execution_count": 2,
   "metadata": {},
   "outputs": [
    {
     "name": "stdout",
     "output_type": "stream",
     "text": [
      "Normalized VIIRS data saved to datasets/inputs/Japan_light_intensity_normalized.csv\n"
     ]
    }
   ],
   "source": [
    "# Filepath for the outputted CSV file\n",
    "input_csv = \"datasets/inputs/Japan_light_intensity.csv\"\n",
    "output_normalized_csv = \"datasets/inputs/Japan_light_intensity_normalized.csv\"\n",
    "\n",
    "# Loading the extracted data\n",
    "data = pd.read_csv(input_csv)\n",
    "\n",
    "# Normalizing the light intensity column\n",
    "data['normalized_light_intensity'] = (data['light_intensity'] - data['light_intensity'].min()) / \\\n",
    "                                     (data['light_intensity'].max() - data['light_intensity'].min())\n",
    "\n",
    "# Save the normalized data to a new CSV\n",
    "data.to_csv(output_normalized_csv, index=False)\n",
    "print(f\"Normalized VIIRS data saved to {output_normalized_csv}\")"
   ]
  },
  {
   "cell_type": "markdown",
   "metadata": {},
   "source": [
    "##### High-Radiance Zones Extraction"
   ]
  },
  {
   "cell_type": "code",
   "execution_count": 3,
   "metadata": {},
   "outputs": [
    {
     "name": "stdout",
     "output_type": "stream",
     "text": [
      "Urban areas data saved to datasets/processed/Japan_urban_light_intensity.csv\n"
     ]
    }
   ],
   "source": [
    "# Filepath for the normalized data\n",
    "normalized_csv = \"datasets/inputs/Japan_light_intensity_normalized.csv\"\n",
    "urban_output_csv = \"datasets/processed/Japan_urban_light_intensity.csv\"\n",
    "\n",
    "# Loading the normalized data\n",
    "normalized_data = pd.read_csv(normalized_csv).drop('light_intensity', axis=1)\n",
    "\n",
    "# Defining a threshold for high-radiance zones\n",
    "threshold = 0.3\n",
    "\n",
    "# Extracting high-radiance zones\n",
    "urban_data = normalized_data[normalized_data['normalized_light_intensity'] >= threshold]\n",
    "\n",
    "# Saving the extracted urban areas data\n",
    "urban_data.to_csv(urban_output_csv, index=False)\n",
    "print(f\"Urban areas data saved to {urban_output_csv}\")"
   ]
  },
  {
   "cell_type": "code",
   "execution_count": 4,
   "metadata": {},
   "outputs": [
    {
     "data": {
      "text/html": [
       "<div>\n",
       "<style scoped>\n",
       "    .dataframe tbody tr th:only-of-type {\n",
       "        vertical-align: middle;\n",
       "    }\n",
       "\n",
       "    .dataframe tbody tr th {\n",
       "        vertical-align: top;\n",
       "    }\n",
       "\n",
       "    .dataframe thead th {\n",
       "        text-align: right;\n",
       "    }\n",
       "</style>\n",
       "<table border=\"1\" class=\"dataframe\">\n",
       "  <thead>\n",
       "    <tr style=\"text-align: right;\">\n",
       "      <th></th>\n",
       "      <th>longitude</th>\n",
       "      <th>latitude</th>\n",
       "      <th>normalized_light_intensity</th>\n",
       "    </tr>\n",
       "  </thead>\n",
       "  <tbody>\n",
       "    <tr>\n",
       "      <th>4484274</th>\n",
       "      <td>141.350003</td>\n",
       "      <td>43.054166</td>\n",
       "      <td>0.353907</td>\n",
       "    </tr>\n",
       "    <tr>\n",
       "      <th>4484275</th>\n",
       "      <td>141.354169</td>\n",
       "      <td>43.054166</td>\n",
       "      <td>0.461180</td>\n",
       "    </tr>\n",
       "    <tr>\n",
       "      <th>4484276</th>\n",
       "      <td>141.358336</td>\n",
       "      <td>43.054166</td>\n",
       "      <td>0.354317</td>\n",
       "    </tr>\n",
       "    <tr>\n",
       "      <th>8986526</th>\n",
       "      <td>141.500003</td>\n",
       "      <td>40.537500</td>\n",
       "      <td>0.523353</td>\n",
       "    </tr>\n",
       "    <tr>\n",
       "      <th>8986527</th>\n",
       "      <td>141.504169</td>\n",
       "      <td>40.537500</td>\n",
       "      <td>0.654899</td>\n",
       "    </tr>\n",
       "  </tbody>\n",
       "</table>\n",
       "</div>"
      ],
      "text/plain": [
       "          longitude   latitude  normalized_light_intensity\n",
       "4484274  141.350003  43.054166                    0.353907\n",
       "4484275  141.354169  43.054166                    0.461180\n",
       "4484276  141.358336  43.054166                    0.354317\n",
       "8986526  141.500003  40.537500                    0.523353\n",
       "8986527  141.504169  40.537500                    0.654899"
      ]
     },
     "execution_count": 4,
     "metadata": {},
     "output_type": "execute_result"
    }
   ],
   "source": [
    "urban_data.head()"
   ]
  },
  {
   "cell_type": "code",
   "execution_count": 5,
   "metadata": {},
   "outputs": [
    {
     "data": {
      "text/html": [
       "<div>\n",
       "<style scoped>\n",
       "    .dataframe tbody tr th:only-of-type {\n",
       "        vertical-align: middle;\n",
       "    }\n",
       "\n",
       "    .dataframe tbody tr th {\n",
       "        vertical-align: top;\n",
       "    }\n",
       "\n",
       "    .dataframe thead th {\n",
       "        text-align: right;\n",
       "    }\n",
       "</style>\n",
       "<table border=\"1\" class=\"dataframe\">\n",
       "  <thead>\n",
       "    <tr style=\"text-align: right;\">\n",
       "      <th></th>\n",
       "      <th>longitude</th>\n",
       "      <th>latitude</th>\n",
       "      <th>normalized_light_intensity</th>\n",
       "    </tr>\n",
       "  </thead>\n",
       "  <tbody>\n",
       "    <tr>\n",
       "      <th>count</th>\n",
       "      <td>30.000000</td>\n",
       "      <td>30.000000</td>\n",
       "      <td>30.000000</td>\n",
       "    </tr>\n",
       "    <tr>\n",
       "      <th>mean</th>\n",
       "      <td>138.226253</td>\n",
       "      <td>36.769305</td>\n",
       "      <td>0.425668</td>\n",
       "    </tr>\n",
       "    <tr>\n",
       "      <th>std</th>\n",
       "      <td>2.961285</td>\n",
       "      <td>3.003967</td>\n",
       "      <td>0.149639</td>\n",
       "    </tr>\n",
       "    <tr>\n",
       "      <th>min</th>\n",
       "      <td>132.537503</td>\n",
       "      <td>34.220833</td>\n",
       "      <td>0.300467</td>\n",
       "    </tr>\n",
       "    <tr>\n",
       "      <th>25%</th>\n",
       "      <td>135.501044</td>\n",
       "      <td>34.670833</td>\n",
       "      <td>0.338119</td>\n",
       "    </tr>\n",
       "    <tr>\n",
       "      <th>50%</th>\n",
       "      <td>139.700003</td>\n",
       "      <td>35.677083</td>\n",
       "      <td>0.375986</td>\n",
       "    </tr>\n",
       "    <tr>\n",
       "      <th>75%</th>\n",
       "      <td>140.940628</td>\n",
       "      <td>39.333333</td>\n",
       "      <td>0.450831</td>\n",
       "    </tr>\n",
       "    <tr>\n",
       "      <th>max</th>\n",
       "      <td>141.508336</td>\n",
       "      <td>43.054166</td>\n",
       "      <td>1.000000</td>\n",
       "    </tr>\n",
       "  </tbody>\n",
       "</table>\n",
       "</div>"
      ],
      "text/plain": [
       "        longitude   latitude  normalized_light_intensity\n",
       "count   30.000000  30.000000                   30.000000\n",
       "mean   138.226253  36.769305                    0.425668\n",
       "std      2.961285   3.003967                    0.149639\n",
       "min    132.537503  34.220833                    0.300467\n",
       "25%    135.501044  34.670833                    0.338119\n",
       "50%    139.700003  35.677083                    0.375986\n",
       "75%    140.940628  39.333333                    0.450831\n",
       "max    141.508336  43.054166                    1.000000"
      ]
     },
     "execution_count": 5,
     "metadata": {},
     "output_type": "execute_result"
    }
   ],
   "source": [
    "urban_data.describe()"
   ]
  },
  {
   "cell_type": "markdown",
   "metadata": {},
   "source": [
    "#### Philippines"
   ]
  },
  {
   "cell_type": "markdown",
   "metadata": {},
   "source": [
    "##### Light Intensity Normalization"
   ]
  },
  {
   "cell_type": "code",
   "execution_count": 6,
   "metadata": {},
   "outputs": [
    {
     "name": "stdout",
     "output_type": "stream",
     "text": [
      "Normalized VIIRS data saved to datasets/inputs/Philippines_light_intensity_normalized.csv\n"
     ]
    }
   ],
   "source": [
    "# Filepath for the outputted CSV file\n",
    "input_csv = \"datasets/inputs/Philippines_light_intensity.csv\"\n",
    "output_normalized_csv = \"datasets/inputs/Philippines_light_intensity_normalized.csv\"\n",
    "\n",
    "# Loading the extracted data\n",
    "data = pd.read_csv(input_csv)\n",
    "\n",
    "# Normalizing the light intensity column\n",
    "data['normalized_light_intensity'] = (data['light_intensity'] - data['light_intensity'].min()) / \\\n",
    "                                     (data['light_intensity'].max() - data['light_intensity'].min())\n",
    "\n",
    "# Save the normalized data to a new CSV\n",
    "data.to_csv(output_normalized_csv, index=False)\n",
    "print(f\"Normalized VIIRS data saved to {output_normalized_csv}\")"
   ]
  },
  {
   "cell_type": "markdown",
   "metadata": {},
   "source": [
    "##### High-Radiance Zones Extraction"
   ]
  },
  {
   "cell_type": "code",
   "execution_count": 7,
   "metadata": {},
   "outputs": [
    {
     "name": "stdout",
     "output_type": "stream",
     "text": [
      "Urban areas data saved to datasets/processed/Philippines_urban_light_intensity.csv\n"
     ]
    }
   ],
   "source": [
    "# Filepath for the normalized data\n",
    "normalized_csv = \"datasets/inputs/Philippines_light_intensity_normalized.csv\"\n",
    "urban_output_csv = \"datasets/processed/Philippines_urban_light_intensity.csv\"\n",
    "\n",
    "# Loading the normalized data\n",
    "normalized_data = pd.read_csv(normalized_csv).drop('light_intensity', axis=1)\n",
    "\n",
    "# Defining a threshold for high-radiance zones\n",
    "threshold = 0.3\n",
    "\n",
    "# Extracting high-radiance zones\n",
    "urban_data = normalized_data[normalized_data['normalized_light_intensity'] >= threshold]\n",
    "\n",
    "# Saving the extracted urban areas data\n",
    "urban_data.to_csv(urban_output_csv, index=False)\n",
    "print(f\"Urban areas data saved to {urban_output_csv}\")"
   ]
  },
  {
   "cell_type": "code",
   "execution_count": 8,
   "metadata": {},
   "outputs": [
    {
     "data": {
      "text/html": [
       "<div>\n",
       "<style scoped>\n",
       "    .dataframe tbody tr th:only-of-type {\n",
       "        vertical-align: middle;\n",
       "    }\n",
       "\n",
       "    .dataframe tbody tr th {\n",
       "        vertical-align: top;\n",
       "    }\n",
       "\n",
       "    .dataframe thead th {\n",
       "        text-align: right;\n",
       "    }\n",
       "</style>\n",
       "<table border=\"1\" class=\"dataframe\">\n",
       "  <thead>\n",
       "    <tr style=\"text-align: right;\">\n",
       "      <th></th>\n",
       "      <th>longitude</th>\n",
       "      <th>latitude</th>\n",
       "      <th>normalized_light_intensity</th>\n",
       "    </tr>\n",
       "  </thead>\n",
       "  <tbody>\n",
       "    <tr>\n",
       "      <th>3549238</th>\n",
       "      <td>120.100002</td>\n",
       "      <td>16.125000</td>\n",
       "      <td>0.361303</td>\n",
       "    </tr>\n",
       "    <tr>\n",
       "      <th>4522957</th>\n",
       "      <td>120.966669</td>\n",
       "      <td>14.754166</td>\n",
       "      <td>0.354600</td>\n",
       "    </tr>\n",
       "    <tr>\n",
       "      <th>4522958</th>\n",
       "      <td>120.970836</td>\n",
       "      <td>14.754166</td>\n",
       "      <td>0.367698</td>\n",
       "    </tr>\n",
       "    <tr>\n",
       "      <th>4617666</th>\n",
       "      <td>121.054169</td>\n",
       "      <td>14.620833</td>\n",
       "      <td>0.307261</td>\n",
       "    </tr>\n",
       "    <tr>\n",
       "      <th>4620602</th>\n",
       "      <td>120.958336</td>\n",
       "      <td>14.616666</td>\n",
       "      <td>0.513001</td>\n",
       "    </tr>\n",
       "  </tbody>\n",
       "</table>\n",
       "</div>"
      ],
      "text/plain": [
       "          longitude   latitude  normalized_light_intensity\n",
       "3549238  120.100002  16.125000                    0.361303\n",
       "4522957  120.966669  14.754166                    0.354600\n",
       "4522958  120.970836  14.754166                    0.367698\n",
       "4617666  121.054169  14.620833                    0.307261\n",
       "4620602  120.958336  14.616666                    0.513001"
      ]
     },
     "execution_count": 8,
     "metadata": {},
     "output_type": "execute_result"
    }
   ],
   "source": [
    "urban_data.head()"
   ]
  },
  {
   "cell_type": "code",
   "execution_count": 9,
   "metadata": {},
   "outputs": [
    {
     "data": {
      "text/html": [
       "<div>\n",
       "<style scoped>\n",
       "    .dataframe tbody tr th:only-of-type {\n",
       "        vertical-align: middle;\n",
       "    }\n",
       "\n",
       "    .dataframe tbody tr th {\n",
       "        vertical-align: top;\n",
       "    }\n",
       "\n",
       "    .dataframe thead th {\n",
       "        text-align: right;\n",
       "    }\n",
       "</style>\n",
       "<table border=\"1\" class=\"dataframe\">\n",
       "  <thead>\n",
       "    <tr style=\"text-align: right;\">\n",
       "      <th></th>\n",
       "      <th>longitude</th>\n",
       "      <th>latitude</th>\n",
       "      <th>normalized_light_intensity</th>\n",
       "    </tr>\n",
       "  </thead>\n",
       "  <tbody>\n",
       "    <tr>\n",
       "      <th>count</th>\n",
       "      <td>152.000000</td>\n",
       "      <td>152.000000</td>\n",
       "      <td>152.000000</td>\n",
       "    </tr>\n",
       "    <tr>\n",
       "      <th>mean</th>\n",
       "      <td>121.172480</td>\n",
       "      <td>14.234100</td>\n",
       "      <td>0.411548</td>\n",
       "    </tr>\n",
       "    <tr>\n",
       "      <th>std</th>\n",
       "      <td>0.719162</td>\n",
       "      <td>1.154185</td>\n",
       "      <td>0.121967</td>\n",
       "    </tr>\n",
       "    <tr>\n",
       "      <th>min</th>\n",
       "      <td>120.100002</td>\n",
       "      <td>6.904166</td>\n",
       "      <td>0.300249</td>\n",
       "    </tr>\n",
       "    <tr>\n",
       "      <th>25%</th>\n",
       "      <td>120.983336</td>\n",
       "      <td>14.516666</td>\n",
       "      <td>0.330265</td>\n",
       "    </tr>\n",
       "    <tr>\n",
       "      <th>50%</th>\n",
       "      <td>121.004169</td>\n",
       "      <td>14.541666</td>\n",
       "      <td>0.366314</td>\n",
       "    </tr>\n",
       "    <tr>\n",
       "      <th>75%</th>\n",
       "      <td>121.050002</td>\n",
       "      <td>14.580208</td>\n",
       "      <td>0.456612</td>\n",
       "    </tr>\n",
       "    <tr>\n",
       "      <th>max</th>\n",
       "      <td>124.662502</td>\n",
       "      <td>16.125000</td>\n",
       "      <td>1.000000</td>\n",
       "    </tr>\n",
       "  </tbody>\n",
       "</table>\n",
       "</div>"
      ],
      "text/plain": [
       "        longitude    latitude  normalized_light_intensity\n",
       "count  152.000000  152.000000                  152.000000\n",
       "mean   121.172480   14.234100                    0.411548\n",
       "std      0.719162    1.154185                    0.121967\n",
       "min    120.100002    6.904166                    0.300249\n",
       "25%    120.983336   14.516666                    0.330265\n",
       "50%    121.004169   14.541666                    0.366314\n",
       "75%    121.050002   14.580208                    0.456612\n",
       "max    124.662502   16.125000                    1.000000"
      ]
     },
     "execution_count": 9,
     "metadata": {},
     "output_type": "execute_result"
    }
   ],
   "source": [
    "urban_data.describe()"
   ]
  },
  {
   "cell_type": "markdown",
   "metadata": {},
   "source": [
    "#### Taiwan"
   ]
  },
  {
   "cell_type": "markdown",
   "metadata": {},
   "source": [
    "##### Light Intensity Normalization"
   ]
  },
  {
   "cell_type": "code",
   "execution_count": 10,
   "metadata": {},
   "outputs": [
    {
     "name": "stdout",
     "output_type": "stream",
     "text": [
      "Normalized VIIRS data saved to datasets/inputs/Taiwan_light_intensity_normalized.csv\n"
     ]
    }
   ],
   "source": [
    "# Filepath for the outputted CSV file\n",
    "input_csv = \"datasets/inputs/Taiwan_light_intensity.csv\"\n",
    "output_normalized_csv = \"datasets/inputs/Taiwan_light_intensity_normalized.csv\"\n",
    "\n",
    "# Loading the extracted data\n",
    "data = pd.read_csv(input_csv)\n",
    "\n",
    "# Normalizing the light intensity column\n",
    "data['normalized_light_intensity'] = (data['light_intensity'] - data['light_intensity'].min()) / \\\n",
    "                                     (data['light_intensity'].max() - data['light_intensity'].min())\n",
    "\n",
    "# Save the normalized data to a new CSV\n",
    "data.to_csv(output_normalized_csv, index=False)\n",
    "print(f\"Normalized VIIRS data saved to {output_normalized_csv}\")"
   ]
  },
  {
   "cell_type": "markdown",
   "metadata": {},
   "source": [
    "##### High-Radiance Zones Extraction"
   ]
  },
  {
   "cell_type": "code",
   "execution_count": 11,
   "metadata": {},
   "outputs": [
    {
     "name": "stdout",
     "output_type": "stream",
     "text": [
      "Urban areas data saved to datasets/processed/Taiwan_urban_light_intensity.csv\n"
     ]
    }
   ],
   "source": [
    "# Filepath for the normalized data\n",
    "normalized_csv = \"datasets/inputs/Taiwan_light_intensity_normalized.csv\"\n",
    "urban_output_csv = \"datasets/processed/Taiwan_urban_light_intensity.csv\"\n",
    "\n",
    "# Loading the normalized data\n",
    "normalized_data = pd.read_csv(normalized_csv).drop('light_intensity', axis=1)\n",
    "\n",
    "# Defining a threshold for high-radiance zones\n",
    "threshold = 0.3\n",
    "\n",
    "# Extracting high-radiance zones\n",
    "urban_data = normalized_data[normalized_data['normalized_light_intensity'] >= threshold]\n",
    "\n",
    "# Saving the extracted urban areas data\n",
    "urban_data.to_csv(urban_output_csv, index=False)\n",
    "print(f\"Urban areas data saved to {urban_output_csv}\")"
   ]
  },
  {
   "cell_type": "code",
   "execution_count": 12,
   "metadata": {},
   "outputs": [
    {
     "data": {
      "text/html": [
       "<div>\n",
       "<style scoped>\n",
       "    .dataframe tbody tr th:only-of-type {\n",
       "        vertical-align: middle;\n",
       "    }\n",
       "\n",
       "    .dataframe tbody tr th {\n",
       "        vertical-align: top;\n",
       "    }\n",
       "\n",
       "    .dataframe thead th {\n",
       "        text-align: right;\n",
       "    }\n",
       "</style>\n",
       "<table border=\"1\" class=\"dataframe\">\n",
       "  <thead>\n",
       "    <tr style=\"text-align: right;\">\n",
       "      <th></th>\n",
       "      <th>longitude</th>\n",
       "      <th>latitude</th>\n",
       "      <th>normalized_light_intensity</th>\n",
       "    </tr>\n",
       "  </thead>\n",
       "  <tbody>\n",
       "    <tr>\n",
       "      <th>245570</th>\n",
       "      <td>121.750002</td>\n",
       "      <td>25.150000</td>\n",
       "      <td>0.324514</td>\n",
       "    </tr>\n",
       "    <tr>\n",
       "      <th>256488</th>\n",
       "      <td>121.241669</td>\n",
       "      <td>25.100000</td>\n",
       "      <td>0.326211</td>\n",
       "    </tr>\n",
       "    <tr>\n",
       "      <th>257407</th>\n",
       "      <td>121.237502</td>\n",
       "      <td>25.095833</td>\n",
       "      <td>0.386666</td>\n",
       "    </tr>\n",
       "    <tr>\n",
       "      <th>257408</th>\n",
       "      <td>121.241669</td>\n",
       "      <td>25.095833</td>\n",
       "      <td>0.447414</td>\n",
       "    </tr>\n",
       "    <tr>\n",
       "      <th>257409</th>\n",
       "      <td>121.245836</td>\n",
       "      <td>25.095833</td>\n",
       "      <td>0.320626</td>\n",
       "    </tr>\n",
       "  </tbody>\n",
       "</table>\n",
       "</div>"
      ],
      "text/plain": [
       "         longitude   latitude  normalized_light_intensity\n",
       "245570  121.750002  25.150000                    0.324514\n",
       "256488  121.241669  25.100000                    0.326211\n",
       "257407  121.237502  25.095833                    0.386666\n",
       "257408  121.241669  25.095833                    0.447414\n",
       "257409  121.245836  25.095833                    0.320626"
      ]
     },
     "execution_count": 12,
     "metadata": {},
     "output_type": "execute_result"
    }
   ],
   "source": [
    "urban_data.head()"
   ]
  },
  {
   "cell_type": "code",
   "execution_count": 13,
   "metadata": {},
   "outputs": [
    {
     "data": {
      "text/html": [
       "<div>\n",
       "<style scoped>\n",
       "    .dataframe tbody tr th:only-of-type {\n",
       "        vertical-align: middle;\n",
       "    }\n",
       "\n",
       "    .dataframe tbody tr th {\n",
       "        vertical-align: top;\n",
       "    }\n",
       "\n",
       "    .dataframe thead th {\n",
       "        text-align: right;\n",
       "    }\n",
       "</style>\n",
       "<table border=\"1\" class=\"dataframe\">\n",
       "  <thead>\n",
       "    <tr style=\"text-align: right;\">\n",
       "      <th></th>\n",
       "      <th>longitude</th>\n",
       "      <th>latitude</th>\n",
       "      <th>normalized_light_intensity</th>\n",
       "    </tr>\n",
       "  </thead>\n",
       "  <tbody>\n",
       "    <tr>\n",
       "      <th>count</th>\n",
       "      <td>285.000000</td>\n",
       "      <td>285.000000</td>\n",
       "      <td>285.000000</td>\n",
       "    </tr>\n",
       "    <tr>\n",
       "      <th>mean</th>\n",
       "      <td>120.575105</td>\n",
       "      <td>23.443318</td>\n",
       "      <td>0.361170</td>\n",
       "    </tr>\n",
       "    <tr>\n",
       "      <th>std</th>\n",
       "      <td>0.483176</td>\n",
       "      <td>0.974436</td>\n",
       "      <td>0.086443</td>\n",
       "    </tr>\n",
       "    <tr>\n",
       "      <th>min</th>\n",
       "      <td>120.179169</td>\n",
       "      <td>22.491666</td>\n",
       "      <td>0.300001</td>\n",
       "    </tr>\n",
       "    <tr>\n",
       "      <th>25%</th>\n",
       "      <td>120.225002</td>\n",
       "      <td>22.637500</td>\n",
       "      <td>0.315573</td>\n",
       "    </tr>\n",
       "    <tr>\n",
       "      <th>50%</th>\n",
       "      <td>120.329169</td>\n",
       "      <td>22.995833</td>\n",
       "      <td>0.335162</td>\n",
       "    </tr>\n",
       "    <tr>\n",
       "      <th>75%</th>\n",
       "      <td>120.937502</td>\n",
       "      <td>24.145833</td>\n",
       "      <td>0.370983</td>\n",
       "    </tr>\n",
       "    <tr>\n",
       "      <th>max</th>\n",
       "      <td>121.750002</td>\n",
       "      <td>25.150000</td>\n",
       "      <td>1.000000</td>\n",
       "    </tr>\n",
       "  </tbody>\n",
       "</table>\n",
       "</div>"
      ],
      "text/plain": [
       "        longitude    latitude  normalized_light_intensity\n",
       "count  285.000000  285.000000                  285.000000\n",
       "mean   120.575105   23.443318                    0.361170\n",
       "std      0.483176    0.974436                    0.086443\n",
       "min    120.179169   22.491666                    0.300001\n",
       "25%    120.225002   22.637500                    0.315573\n",
       "50%    120.329169   22.995833                    0.335162\n",
       "75%    120.937502   24.145833                    0.370983\n",
       "max    121.750002   25.150000                    1.000000"
      ]
     },
     "execution_count": 13,
     "metadata": {},
     "output_type": "execute_result"
    }
   ],
   "source": [
    "urban_data.describe()"
   ]
  },
  {
   "cell_type": "markdown",
   "metadata": {},
   "source": [
    "#### Combining"
   ]
  },
  {
   "cell_type": "code",
   "execution_count": 14,
   "metadata": {},
   "outputs": [
    {
     "name": "stdout",
     "output_type": "stream",
     "text": [
      "Combined urban light intensity data saved to datasets/processed/combined_urban_light_intensity.csv\n"
     ]
    }
   ],
   "source": [
    "# Filepaths for urban light intensity CSVs\n",
    "urban_csvs = [\n",
    "    \"datasets/processed/Japan_urban_light_intensity.csv\",\n",
    "    \"datasets/processed/Philippines_urban_light_intensity.csv\",\n",
    "    \"datasets/processed/Taiwan_urban_light_intensity.csv\"\n",
    "]\n",
    "\n",
    "# Output filepath for the combined CSV\n",
    "combined_csv = \"datasets/processed/combined_urban_light_intensity.csv\"\n",
    "\n",
    "# Initializing an empty list to store DataFrames\n",
    "urban_dfs = []\n",
    "\n",
    "# Looping through each file and load data\n",
    "for csv_path in urban_csvs:\n",
    "    # Extracting the country name from the file path for tagging\n",
    "    country_name = csv_path.split(\"/\")[-1].split(\"_\")[0]\n",
    "    \n",
    "    # Load the CSV into a DataFrame\n",
    "    df = pd.read_csv(csv_path)\n",
    "    \n",
    "    # Add a column for the country name\n",
    "    df['country'] = country_name\n",
    "    \n",
    "    # Append the DataFrame to the list\n",
    "    urban_dfs.append(df)\n",
    "\n",
    "# Concatenate all the DataFrames\n",
    "combined_df = pd.concat(urban_dfs, ignore_index=True)\n",
    "\n",
    "# Save the combined DataFrame to a CSV file\n",
    "combined_df.to_csv(combined_csv, index=False)\n",
    "print(f\"Combined urban light intensity data saved to {combined_csv}\")"
   ]
  },
  {
   "cell_type": "markdown",
   "metadata": {},
   "source": [
    "### Ookla Data"
   ]
  },
  {
   "cell_type": "markdown",
   "metadata": {},
   "source": [
    "#### Aggregate Metrics for Urban Regions"
   ]
  },
  {
   "cell_type": "code",
   "execution_count": 15,
   "metadata": {},
   "outputs": [
    {
     "name": "stderr",
     "output_type": "stream",
     "text": [
      "C:\\Users\\bodbo\\AppData\\Local\\Temp\\ipykernel_19740\\1445342926.py:7: DtypeWarning: Columns (10) have mixed types. Specify dtype option on import or set low_memory=False.\n",
      "  ookla_data = pd.read_csv(ookla_csv)\n"
     ]
    },
    {
     "name": "stdout",
     "output_type": "stream",
     "text": [
      "Cleaned dataset saved to datasets/processed/cleaned_urban_internet_data.csv\n"
     ]
    }
   ],
   "source": [
    "# File paths\n",
    "ookla_csv = \"datasets/inputs/Global_internet_combined_tiles.csv\"\n",
    "urban_light_csv = \"datasets/processed/combined_urban_light_intensity.csv\"\n",
    "output_cleaned_csv = \"datasets/processed/cleaned_urban_internet_data.csv\"\n",
    "\n",
    "# Load Ookla data as GeoDataFrame\n",
    "ookla_data = pd.read_csv(ookla_csv)\n",
    "ookla_gdf = gpd.GeoDataFrame(\n",
    "    ookla_data,\n",
    "    geometry=gpd.GeoSeries.from_wkt(ookla_data['geometry']),\n",
    "    crs=\"EPSG:4326\"\n",
    ") # type: ignore\n",
    "\n",
    "# Load and convert urban light intensity data to GeoDataFrame\n",
    "urban_light_data = pd.read_csv(urban_light_csv)\n",
    "urban_light_gdf = gpd.GeoDataFrame(\n",
    "    urban_light_data,\n",
    "    geometry=gpd.points_from_xy(urban_light_data['longitude'], urban_light_data['latitude']),\n",
    "    crs=\"EPSG:4326\"\n",
    ") # type: ignore\n",
    "ookla_gdf.drop(['index_right'], axis=1, inplace=True)\n",
    "\n",
    "# Perform spatial join to filter Ookla data for urban regions\n",
    "urban_internet_data = gpd.sjoin(ookla_gdf, urban_light_gdf, how=\"inner\", predicate=\"intersects\")\n",
    "\n",
    "# Edit the records with shapeName \"Republic Of China\" to be \"Taiwan\"\n",
    "urban_internet_data.loc[urban_internet_data['shapeName'] == \"Republic Of China\", 'shapeName'] = \"Taiwan\"\n",
    "\n",
    "# Change the name of shapeName column to Country\n",
    "urban_internet_data.rename(columns={'shapeName': 'country'}, inplace=True)\n",
    "\n",
    "# Filter only relevant columns for the research scope\n",
    "urban_internet_data_filtered = urban_internet_data[[\n",
    "    'country', 'avg_d_kbps', 'avg_u_kbps', 'avg_lat_ms', 'tests', 'quarter', 'geometry', 'normalized_light_intensity'\n",
    "]]\n",
    "\n",
    "# Save the cleaned dataset\n",
    "urban_internet_data_filtered.to_csv(output_cleaned_csv, index=False)\n",
    "print(f\"Cleaned dataset saved to {output_cleaned_csv}\")\n"
   ]
  },
  {
   "cell_type": "code",
   "execution_count": 16,
   "metadata": {},
   "outputs": [
    {
     "data": {
      "text/html": [
       "<div>\n",
       "<style scoped>\n",
       "    .dataframe tbody tr th:only-of-type {\n",
       "        vertical-align: middle;\n",
       "    }\n",
       "\n",
       "    .dataframe tbody tr th {\n",
       "        vertical-align: top;\n",
       "    }\n",
       "\n",
       "    .dataframe thead th {\n",
       "        text-align: right;\n",
       "    }\n",
       "</style>\n",
       "<table border=\"1\" class=\"dataframe\">\n",
       "  <thead>\n",
       "    <tr style=\"text-align: right;\">\n",
       "      <th></th>\n",
       "      <th>country</th>\n",
       "      <th>avg_d_kbps</th>\n",
       "      <th>avg_u_kbps</th>\n",
       "      <th>avg_lat_ms</th>\n",
       "      <th>tests</th>\n",
       "      <th>quarter</th>\n",
       "      <th>geometry</th>\n",
       "      <th>normalized_light_intensity</th>\n",
       "    </tr>\n",
       "  </thead>\n",
       "  <tbody>\n",
       "    <tr>\n",
       "      <th>3819</th>\n",
       "      <td>The Philippines</td>\n",
       "      <td>61541</td>\n",
       "      <td>56224</td>\n",
       "      <td>13</td>\n",
       "      <td>1</td>\n",
       "      <td>1</td>\n",
       "      <td>POLYGON ((120.09705 16.13026, 120.10254 16.130...</td>\n",
       "      <td>0.361303</td>\n",
       "    </tr>\n",
       "    <tr>\n",
       "      <th>18235</th>\n",
       "      <td>The Philippines</td>\n",
       "      <td>46688</td>\n",
       "      <td>33207</td>\n",
       "      <td>28</td>\n",
       "      <td>172</td>\n",
       "      <td>1</td>\n",
       "      <td>POLYGON ((120.96497 14.75895, 120.97046 14.758...</td>\n",
       "      <td>0.354600</td>\n",
       "    </tr>\n",
       "    <tr>\n",
       "      <th>18238</th>\n",
       "      <td>The Philippines</td>\n",
       "      <td>42159</td>\n",
       "      <td>35749</td>\n",
       "      <td>19</td>\n",
       "      <td>105</td>\n",
       "      <td>1</td>\n",
       "      <td>POLYGON ((120.97046 14.75895, 120.97595 14.758...</td>\n",
       "      <td>0.367698</td>\n",
       "    </tr>\n",
       "    <tr>\n",
       "      <th>18820</th>\n",
       "      <td>The Philippines</td>\n",
       "      <td>42853</td>\n",
       "      <td>49297</td>\n",
       "      <td>14</td>\n",
       "      <td>915</td>\n",
       "      <td>1</td>\n",
       "      <td>POLYGON ((120.95947 14.62079, 120.96497 14.620...</td>\n",
       "      <td>0.327973</td>\n",
       "    </tr>\n",
       "    <tr>\n",
       "      <th>18826</th>\n",
       "      <td>The Philippines</td>\n",
       "      <td>37685</td>\n",
       "      <td>32161</td>\n",
       "      <td>15</td>\n",
       "      <td>1634</td>\n",
       "      <td>1</td>\n",
       "      <td>POLYGON ((120.95947 14.61548, 120.96497 14.615...</td>\n",
       "      <td>0.349992</td>\n",
       "    </tr>\n",
       "  </tbody>\n",
       "</table>\n",
       "</div>"
      ],
      "text/plain": [
       "               country  avg_d_kbps  avg_u_kbps  avg_lat_ms  tests  quarter  \\\n",
       "3819   The Philippines       61541       56224          13      1        1   \n",
       "18235  The Philippines       46688       33207          28    172        1   \n",
       "18238  The Philippines       42159       35749          19    105        1   \n",
       "18820  The Philippines       42853       49297          14    915        1   \n",
       "18826  The Philippines       37685       32161          15   1634        1   \n",
       "\n",
       "                                                geometry  \\\n",
       "3819   POLYGON ((120.09705 16.13026, 120.10254 16.130...   \n",
       "18235  POLYGON ((120.96497 14.75895, 120.97046 14.758...   \n",
       "18238  POLYGON ((120.97046 14.75895, 120.97595 14.758...   \n",
       "18820  POLYGON ((120.95947 14.62079, 120.96497 14.620...   \n",
       "18826  POLYGON ((120.95947 14.61548, 120.96497 14.615...   \n",
       "\n",
       "       normalized_light_intensity  \n",
       "3819                     0.361303  \n",
       "18235                    0.354600  \n",
       "18238                    0.367698  \n",
       "18820                    0.327973  \n",
       "18826                    0.349992  "
      ]
     },
     "execution_count": 16,
     "metadata": {},
     "output_type": "execute_result"
    }
   ],
   "source": [
    "urban_internet_data_filtered.head()"
   ]
  },
  {
   "cell_type": "markdown",
   "metadata": {},
   "source": [
    "### Annual Data Consolidation"
   ]
  },
  {
   "cell_type": "code",
   "execution_count": 17,
   "metadata": {},
   "outputs": [
    {
     "name": "stdout",
     "output_type": "stream",
     "text": [
      "Annual consolidated dataset saved to datasets/processed/annual_urban_internet_data.csv\n"
     ]
    }
   ],
   "source": [
    "output_annual_csv = \"datasets/processed/annual_urban_internet_data.csv\"\n",
    "\n",
    "# Group by geometry and country to consolidate quarterly data into annual data\n",
    "annual_data = urban_internet_data_filtered.groupby(['geometry', 'country'], as_index=False).agg({\n",
    "    'avg_d_kbps': 'mean',\n",
    "    'avg_u_kbps': 'mean',\n",
    "    'avg_lat_ms': 'mean',\n",
    "    'tests': 'mean',\n",
    "    'normalized_light_intensity': 'first'  # Keep the annual value\n",
    "})\n",
    "\n",
    "# change order of columns\n",
    "annual_data = annual_data[['country', 'normalized_light_intensity', 'avg_d_kbps', 'avg_u_kbps', 'avg_lat_ms', 'tests', 'geometry']]\n",
    "\n",
    "# Save the consolidated dataset\n",
    "annual_data.to_csv(output_annual_csv, index=False)\n",
    "print(f\"Annual consolidated dataset saved to {output_annual_csv}\")"
   ]
  },
  {
   "cell_type": "code",
   "execution_count": 18,
   "metadata": {},
   "outputs": [
    {
     "data": {
      "text/html": [
       "<div>\n",
       "<style scoped>\n",
       "    .dataframe tbody tr th:only-of-type {\n",
       "        vertical-align: middle;\n",
       "    }\n",
       "\n",
       "    .dataframe tbody tr th {\n",
       "        vertical-align: top;\n",
       "    }\n",
       "\n",
       "    .dataframe thead th {\n",
       "        text-align: right;\n",
       "    }\n",
       "</style>\n",
       "<table border=\"1\" class=\"dataframe\">\n",
       "  <thead>\n",
       "    <tr style=\"text-align: right;\">\n",
       "      <th></th>\n",
       "      <th>country</th>\n",
       "      <th>normalized_light_intensity</th>\n",
       "      <th>avg_d_kbps</th>\n",
       "      <th>avg_u_kbps</th>\n",
       "      <th>avg_lat_ms</th>\n",
       "      <th>tests</th>\n",
       "      <th>geometry</th>\n",
       "    </tr>\n",
       "  </thead>\n",
       "  <tbody>\n",
       "    <tr>\n",
       "      <th>0</th>\n",
       "      <td>The Philippines</td>\n",
       "      <td>0.362867</td>\n",
       "      <td>64757.75</td>\n",
       "      <td>55375.25</td>\n",
       "      <td>21.75</td>\n",
       "      <td>71.5</td>\n",
       "      <td>POLYGON ((122.07458 6.90461, 122.08008 6.90461...</td>\n",
       "    </tr>\n",
       "    <tr>\n",
       "      <th>1</th>\n",
       "      <td>The Philippines</td>\n",
       "      <td>0.482296</td>\n",
       "      <td>89848.00</td>\n",
       "      <td>44673.50</td>\n",
       "      <td>15.00</td>\n",
       "      <td>3.0</td>\n",
       "      <td>POLYGON ((121.05286 13.67801, 121.05835 13.678...</td>\n",
       "    </tr>\n",
       "    <tr>\n",
       "      <th>2</th>\n",
       "      <td>The Philippines</td>\n",
       "      <td>0.347055</td>\n",
       "      <td>4855.00</td>\n",
       "      <td>8136.00</td>\n",
       "      <td>84.00</td>\n",
       "      <td>1.0</td>\n",
       "      <td>POLYGON ((120.5365 14.42936, 120.54199 14.4293...</td>\n",
       "    </tr>\n",
       "    <tr>\n",
       "      <th>3</th>\n",
       "      <td>The Philippines</td>\n",
       "      <td>0.327501</td>\n",
       "      <td>11486.50</td>\n",
       "      <td>6642.00</td>\n",
       "      <td>11.50</td>\n",
       "      <td>7.0</td>\n",
       "      <td>POLYGON ((120.59692 14.5251, 120.60242 14.5251...</td>\n",
       "    </tr>\n",
       "    <tr>\n",
       "      <th>4</th>\n",
       "      <td>The Philippines</td>\n",
       "      <td>0.351483</td>\n",
       "      <td>1147.00</td>\n",
       "      <td>1644.00</td>\n",
       "      <td>26.00</td>\n",
       "      <td>2.0</td>\n",
       "      <td>POLYGON ((120.60242 14.5251, 120.60791 14.5251...</td>\n",
       "    </tr>\n",
       "  </tbody>\n",
       "</table>\n",
       "</div>"
      ],
      "text/plain": [
       "           country  normalized_light_intensity  avg_d_kbps  avg_u_kbps  \\\n",
       "0  The Philippines                    0.362867    64757.75    55375.25   \n",
       "1  The Philippines                    0.482296    89848.00    44673.50   \n",
       "2  The Philippines                    0.347055     4855.00     8136.00   \n",
       "3  The Philippines                    0.327501    11486.50     6642.00   \n",
       "4  The Philippines                    0.351483     1147.00     1644.00   \n",
       "\n",
       "   avg_lat_ms  tests                                           geometry  \n",
       "0       21.75   71.5  POLYGON ((122.07458 6.90461, 122.08008 6.90461...  \n",
       "1       15.00    3.0  POLYGON ((121.05286 13.67801, 121.05835 13.678...  \n",
       "2       84.00    1.0  POLYGON ((120.5365 14.42936, 120.54199 14.4293...  \n",
       "3       11.50    7.0  POLYGON ((120.59692 14.5251, 120.60242 14.5251...  \n",
       "4       26.00    2.0  POLYGON ((120.60242 14.5251, 120.60791 14.5251...  "
      ]
     },
     "execution_count": 18,
     "metadata": {},
     "output_type": "execute_result"
    }
   ],
   "source": [
    "annual_data.head()"
   ]
  },
  {
   "cell_type": "code",
   "execution_count": 19,
   "metadata": {},
   "outputs": [
    {
     "data": {
      "text/html": [
       "<div>\n",
       "<style scoped>\n",
       "    .dataframe tbody tr th:only-of-type {\n",
       "        vertical-align: middle;\n",
       "    }\n",
       "\n",
       "    .dataframe tbody tr th {\n",
       "        vertical-align: top;\n",
       "    }\n",
       "\n",
       "    .dataframe thead th {\n",
       "        text-align: right;\n",
       "    }\n",
       "</style>\n",
       "<table border=\"1\" class=\"dataframe\">\n",
       "  <thead>\n",
       "    <tr style=\"text-align: right;\">\n",
       "      <th></th>\n",
       "      <th>normalized_light_intensity</th>\n",
       "      <th>avg_d_kbps</th>\n",
       "      <th>avg_u_kbps</th>\n",
       "      <th>avg_lat_ms</th>\n",
       "      <th>tests</th>\n",
       "    </tr>\n",
       "  </thead>\n",
       "  <tbody>\n",
       "    <tr>\n",
       "      <th>count</th>\n",
       "      <td>323.000000</td>\n",
       "      <td>323.000000</td>\n",
       "      <td>323.000000</td>\n",
       "      <td>323.000000</td>\n",
       "      <td>323.000000</td>\n",
       "    </tr>\n",
       "    <tr>\n",
       "      <th>mean</th>\n",
       "      <td>0.374875</td>\n",
       "      <td>81846.547214</td>\n",
       "      <td>48536.165635</td>\n",
       "      <td>12.318111</td>\n",
       "      <td>452.670537</td>\n",
       "    </tr>\n",
       "    <tr>\n",
       "      <th>std</th>\n",
       "      <td>0.101195</td>\n",
       "      <td>40173.341444</td>\n",
       "      <td>27314.596965</td>\n",
       "      <td>10.083002</td>\n",
       "      <td>650.350520</td>\n",
       "    </tr>\n",
       "    <tr>\n",
       "      <th>min</th>\n",
       "      <td>0.300001</td>\n",
       "      <td>1147.000000</td>\n",
       "      <td>260.500000</td>\n",
       "      <td>2.000000</td>\n",
       "      <td>1.000000</td>\n",
       "    </tr>\n",
       "    <tr>\n",
       "      <th>25%</th>\n",
       "      <td>0.318378</td>\n",
       "      <td>55489.500000</td>\n",
       "      <td>35552.000000</td>\n",
       "      <td>8.000000</td>\n",
       "      <td>46.750000</td>\n",
       "    </tr>\n",
       "    <tr>\n",
       "      <th>50%</th>\n",
       "      <td>0.344287</td>\n",
       "      <td>78841.000000</td>\n",
       "      <td>44973.000000</td>\n",
       "      <td>9.250000</td>\n",
       "      <td>245.750000</td>\n",
       "    </tr>\n",
       "    <tr>\n",
       "      <th>75%</th>\n",
       "      <td>0.385314</td>\n",
       "      <td>108732.125000</td>\n",
       "      <td>55210.625000</td>\n",
       "      <td>13.125000</td>\n",
       "      <td>504.000000</td>\n",
       "    </tr>\n",
       "    <tr>\n",
       "      <th>max</th>\n",
       "      <td>1.000000</td>\n",
       "      <td>322379.000000</td>\n",
       "      <td>299586.000000</td>\n",
       "      <td>95.000000</td>\n",
       "      <td>3506.500000</td>\n",
       "    </tr>\n",
       "  </tbody>\n",
       "</table>\n",
       "</div>"
      ],
      "text/plain": [
       "       normalized_light_intensity     avg_d_kbps     avg_u_kbps  avg_lat_ms  \\\n",
       "count                  323.000000     323.000000     323.000000  323.000000   \n",
       "mean                     0.374875   81846.547214   48536.165635   12.318111   \n",
       "std                      0.101195   40173.341444   27314.596965   10.083002   \n",
       "min                      0.300001    1147.000000     260.500000    2.000000   \n",
       "25%                      0.318378   55489.500000   35552.000000    8.000000   \n",
       "50%                      0.344287   78841.000000   44973.000000    9.250000   \n",
       "75%                      0.385314  108732.125000   55210.625000   13.125000   \n",
       "max                      1.000000  322379.000000  299586.000000   95.000000   \n",
       "\n",
       "             tests  \n",
       "count   323.000000  \n",
       "mean    452.670537  \n",
       "std     650.350520  \n",
       "min       1.000000  \n",
       "25%      46.750000  \n",
       "50%     245.750000  \n",
       "75%     504.000000  \n",
       "max    3506.500000  "
      ]
     },
     "execution_count": 19,
     "metadata": {},
     "output_type": "execute_result"
    }
   ],
   "source": [
    "annual_data.describe()"
   ]
  },
  {
   "cell_type": "code",
   "execution_count": 20,
   "metadata": {},
   "outputs": [
    {
     "name": "stdout",
     "output_type": "stream",
     "text": [
      "Aggregated internet metrics saved to datasets/processed/urban_internet_metrics.csv\n"
     ]
    }
   ],
   "source": [
    "output_aggregated_csv = \"datasets/processed/urban_internet_metrics.csv\"\n",
    "\n",
    "# Group by urban region or city (use `shapeName` as the grouping column)\n",
    "grouped = annual_data.groupby('country')\n",
    "\n",
    "# Compute average metrics for each region\n",
    "aggregated_metrics = grouped.agg({\n",
    "    'avg_d_kbps': 'mean',\n",
    "    'avg_u_kbps': 'mean',\n",
    "    'avg_lat_ms': 'mean'\n",
    "}).reset_index()\n",
    "\n",
    "# Save the aggregated metrics to CSV\n",
    "aggregated_metrics.to_csv(output_aggregated_csv, index=False)\n",
    "print(f\"Aggregated internet metrics saved to {output_aggregated_csv}\")"
   ]
  },
  {
   "cell_type": "code",
   "execution_count": 21,
   "metadata": {},
   "outputs": [
    {
     "data": {
      "text/html": [
       "<div>\n",
       "<style scoped>\n",
       "    .dataframe tbody tr th:only-of-type {\n",
       "        vertical-align: middle;\n",
       "    }\n",
       "\n",
       "    .dataframe tbody tr th {\n",
       "        vertical-align: top;\n",
       "    }\n",
       "\n",
       "    .dataframe thead th {\n",
       "        text-align: right;\n",
       "    }\n",
       "</style>\n",
       "<table border=\"1\" class=\"dataframe\">\n",
       "  <thead>\n",
       "    <tr style=\"text-align: right;\">\n",
       "      <th></th>\n",
       "      <th>country</th>\n",
       "      <th>avg_d_kbps</th>\n",
       "      <th>avg_u_kbps</th>\n",
       "      <th>avg_lat_ms</th>\n",
       "    </tr>\n",
       "  </thead>\n",
       "  <tbody>\n",
       "    <tr>\n",
       "      <th>0</th>\n",
       "      <td>Japan</td>\n",
       "      <td>87166.819444</td>\n",
       "      <td>86408.319444</td>\n",
       "      <td>20.277778</td>\n",
       "    </tr>\n",
       "    <tr>\n",
       "      <th>1</th>\n",
       "      <td>Taiwan</td>\n",
       "      <td>97193.342262</td>\n",
       "      <td>45824.129677</td>\n",
       "      <td>10.153061</td>\n",
       "    </tr>\n",
       "    <tr>\n",
       "      <th>2</th>\n",
       "      <td>The Philippines</td>\n",
       "      <td>53371.898318</td>\n",
       "      <td>47158.737003</td>\n",
       "      <td>14.896789</td>\n",
       "    </tr>\n",
       "  </tbody>\n",
       "</table>\n",
       "</div>"
      ],
      "text/plain": [
       "           country    avg_d_kbps    avg_u_kbps  avg_lat_ms\n",
       "0            Japan  87166.819444  86408.319444   20.277778\n",
       "1           Taiwan  97193.342262  45824.129677   10.153061\n",
       "2  The Philippines  53371.898318  47158.737003   14.896789"
      ]
     },
     "execution_count": 21,
     "metadata": {},
     "output_type": "execute_result"
    }
   ],
   "source": [
    "aggregated_metrics"
   ]
  }
 ],
 "metadata": {
  "kernelspec": {
   "display_name": "env",
   "language": "python",
   "name": "python3"
  },
  "language_info": {
   "codemirror_mode": {
    "name": "ipython",
    "version": 3
   },
   "file_extension": ".py",
   "mimetype": "text/x-python",
   "name": "python",
   "nbconvert_exporter": "python",
   "pygments_lexer": "ipython3",
   "version": "3.12.3"
  }
 },
 "nbformat": 4,
 "nbformat_minor": 2
}
