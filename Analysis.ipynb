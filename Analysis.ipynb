{
 "cells": [
  {
   "cell_type": "markdown",
   "metadata": {},
   "source": [
    "# Data Preprocessing"
   ]
  },
  {
   "cell_type": "markdown",
   "metadata": {},
   "source": [
    "## Loading and Normalizing CSV Data"
   ]
  },
  {
   "cell_type": "markdown",
   "metadata": {},
   "source": [
    "### Relevant Imports"
   ]
  },
  {
   "cell_type": "code",
   "execution_count": 1,
   "metadata": {},
   "outputs": [],
   "source": [
    "import pandas as pd"
   ]
  },
  {
   "cell_type": "markdown",
   "metadata": {},
   "source": [
    "### VIIRS Data"
   ]
  },
  {
   "cell_type": "markdown",
   "metadata": {},
   "source": [
    "#### Japan"
   ]
  },
  {
   "cell_type": "markdown",
   "metadata": {},
   "source": [
    "##### Light Intensity Normalization"
   ]
  },
  {
   "cell_type": "code",
   "execution_count": 2,
   "metadata": {},
   "outputs": [
    {
     "name": "stdout",
     "output_type": "stream",
     "text": [
      "Normalized VIIRS data saved to datasets/inputs/Japan_light_intensity_normalized.csv\n"
     ]
    }
   ],
   "source": [
    "# Filepath for the outputted CSV file\n",
    "input_csv = \"datasets/inputs/Japan_light_intensity.csv\"\n",
    "output_normalized_csv = \"datasets/inputs/Japan_light_intensity_normalized.csv\"\n",
    "\n",
    "# Loading the extracted data\n",
    "data = pd.read_csv(input_csv)\n",
    "\n",
    "# Normalizing the light intensity column\n",
    "data['normalized_light_intensity'] = (data['light_intensity'] - data['light_intensity'].min()) / \\\n",
    "                                     (data['light_intensity'].max() - data['light_intensity'].min())\n",
    "\n",
    "# Save the normalized data to a new CSV\n",
    "data.to_csv(output_normalized_csv, index=False)\n",
    "print(f\"Normalized VIIRS data saved to {output_normalized_csv}\")"
   ]
  },
  {
   "cell_type": "markdown",
   "metadata": {},
   "source": [
    "##### High-Radiance Zones Extraction"
   ]
  },
  {
   "cell_type": "code",
   "execution_count": 3,
   "metadata": {},
   "outputs": [
    {
     "name": "stdout",
     "output_type": "stream",
     "text": [
      "Urban areas data saved to datasets/processed/Japan_urban_light_intensity.csv\n"
     ]
    }
   ],
   "source": [
    "# Filepath for the normalized data\n",
    "normalized_csv = \"datasets/inputs/Japan_light_intensity_normalized.csv\"\n",
    "urban_output_csv = \"datasets/processed/Japan_urban_light_intensity.csv\"\n",
    "\n",
    "# Loading the normalized data\n",
    "normalized_data = pd.read_csv(normalized_csv).drop('light_intensity', axis=1)\n",
    "\n",
    "# Defining a threshold for high-radiance zones\n",
    "threshold = 0.3\n",
    "\n",
    "# Extracting high-radiance zones\n",
    "urban_data = normalized_data[normalized_data['normalized_light_intensity'] >= threshold]\n",
    "\n",
    "# Saving the extracted urban areas data\n",
    "urban_data.to_csv(urban_output_csv, index=False)\n",
    "print(f\"Urban areas data saved to {urban_output_csv}\")"
   ]
  },
  {
   "cell_type": "code",
   "execution_count": 4,
   "metadata": {},
   "outputs": [
    {
     "data": {
      "text/html": [
       "<div>\n",
       "<style scoped>\n",
       "    .dataframe tbody tr th:only-of-type {\n",
       "        vertical-align: middle;\n",
       "    }\n",
       "\n",
       "    .dataframe tbody tr th {\n",
       "        vertical-align: top;\n",
       "    }\n",
       "\n",
       "    .dataframe thead th {\n",
       "        text-align: right;\n",
       "    }\n",
       "</style>\n",
       "<table border=\"1\" class=\"dataframe\">\n",
       "  <thead>\n",
       "    <tr style=\"text-align: right;\">\n",
       "      <th></th>\n",
       "      <th>longitude</th>\n",
       "      <th>latitude</th>\n",
       "      <th>normalized_light_intensity</th>\n",
       "    </tr>\n",
       "  </thead>\n",
       "  <tbody>\n",
       "    <tr>\n",
       "      <th>4484274</th>\n",
       "      <td>141.350003</td>\n",
       "      <td>43.054166</td>\n",
       "      <td>0.353907</td>\n",
       "    </tr>\n",
       "    <tr>\n",
       "      <th>4484275</th>\n",
       "      <td>141.354169</td>\n",
       "      <td>43.054166</td>\n",
       "      <td>0.461180</td>\n",
       "    </tr>\n",
       "    <tr>\n",
       "      <th>4484276</th>\n",
       "      <td>141.358336</td>\n",
       "      <td>43.054166</td>\n",
       "      <td>0.354317</td>\n",
       "    </tr>\n",
       "    <tr>\n",
       "      <th>8986526</th>\n",
       "      <td>141.500003</td>\n",
       "      <td>40.537500</td>\n",
       "      <td>0.523353</td>\n",
       "    </tr>\n",
       "    <tr>\n",
       "      <th>8986527</th>\n",
       "      <td>141.504169</td>\n",
       "      <td>40.537500</td>\n",
       "      <td>0.654899</td>\n",
       "    </tr>\n",
       "  </tbody>\n",
       "</table>\n",
       "</div>"
      ],
      "text/plain": [
       "          longitude   latitude  normalized_light_intensity\n",
       "4484274  141.350003  43.054166                    0.353907\n",
       "4484275  141.354169  43.054166                    0.461180\n",
       "4484276  141.358336  43.054166                    0.354317\n",
       "8986526  141.500003  40.537500                    0.523353\n",
       "8986527  141.504169  40.537500                    0.654899"
      ]
     },
     "execution_count": 4,
     "metadata": {},
     "output_type": "execute_result"
    }
   ],
   "source": [
    "urban_data.head()"
   ]
  },
  {
   "cell_type": "code",
   "execution_count": 5,
   "metadata": {},
   "outputs": [
    {
     "data": {
      "text/html": [
       "<div>\n",
       "<style scoped>\n",
       "    .dataframe tbody tr th:only-of-type {\n",
       "        vertical-align: middle;\n",
       "    }\n",
       "\n",
       "    .dataframe tbody tr th {\n",
       "        vertical-align: top;\n",
       "    }\n",
       "\n",
       "    .dataframe thead th {\n",
       "        text-align: right;\n",
       "    }\n",
       "</style>\n",
       "<table border=\"1\" class=\"dataframe\">\n",
       "  <thead>\n",
       "    <tr style=\"text-align: right;\">\n",
       "      <th></th>\n",
       "      <th>longitude</th>\n",
       "      <th>latitude</th>\n",
       "      <th>normalized_light_intensity</th>\n",
       "    </tr>\n",
       "  </thead>\n",
       "  <tbody>\n",
       "    <tr>\n",
       "      <th>count</th>\n",
       "      <td>30.000000</td>\n",
       "      <td>30.000000</td>\n",
       "      <td>30.000000</td>\n",
       "    </tr>\n",
       "    <tr>\n",
       "      <th>mean</th>\n",
       "      <td>138.226253</td>\n",
       "      <td>36.769305</td>\n",
       "      <td>0.425668</td>\n",
       "    </tr>\n",
       "    <tr>\n",
       "      <th>std</th>\n",
       "      <td>2.961285</td>\n",
       "      <td>3.003967</td>\n",
       "      <td>0.149639</td>\n",
       "    </tr>\n",
       "    <tr>\n",
       "      <th>min</th>\n",
       "      <td>132.537503</td>\n",
       "      <td>34.220833</td>\n",
       "      <td>0.300467</td>\n",
       "    </tr>\n",
       "    <tr>\n",
       "      <th>25%</th>\n",
       "      <td>135.501044</td>\n",
       "      <td>34.670833</td>\n",
       "      <td>0.338119</td>\n",
       "    </tr>\n",
       "    <tr>\n",
       "      <th>50%</th>\n",
       "      <td>139.700003</td>\n",
       "      <td>35.677083</td>\n",
       "      <td>0.375986</td>\n",
       "    </tr>\n",
       "    <tr>\n",
       "      <th>75%</th>\n",
       "      <td>140.940628</td>\n",
       "      <td>39.333333</td>\n",
       "      <td>0.450831</td>\n",
       "    </tr>\n",
       "    <tr>\n",
       "      <th>max</th>\n",
       "      <td>141.508336</td>\n",
       "      <td>43.054166</td>\n",
       "      <td>1.000000</td>\n",
       "    </tr>\n",
       "  </tbody>\n",
       "</table>\n",
       "</div>"
      ],
      "text/plain": [
       "        longitude   latitude  normalized_light_intensity\n",
       "count   30.000000  30.000000                   30.000000\n",
       "mean   138.226253  36.769305                    0.425668\n",
       "std      2.961285   3.003967                    0.149639\n",
       "min    132.537503  34.220833                    0.300467\n",
       "25%    135.501044  34.670833                    0.338119\n",
       "50%    139.700003  35.677083                    0.375986\n",
       "75%    140.940628  39.333333                    0.450831\n",
       "max    141.508336  43.054166                    1.000000"
      ]
     },
     "execution_count": 5,
     "metadata": {},
     "output_type": "execute_result"
    }
   ],
   "source": [
    "urban_data.describe()"
   ]
  },
  {
   "cell_type": "markdown",
   "metadata": {},
   "source": [
    "#### Philippines"
   ]
  },
  {
   "cell_type": "markdown",
   "metadata": {},
   "source": [
    "##### Light Intensity Normalization"
   ]
  },
  {
   "cell_type": "code",
   "execution_count": 6,
   "metadata": {},
   "outputs": [
    {
     "name": "stdout",
     "output_type": "stream",
     "text": [
      "Normalized VIIRS data saved to datasets/inputs/Philippines_light_intensity_normalized.csv\n"
     ]
    }
   ],
   "source": [
    "# Filepath for the outputted CSV file\n",
    "input_csv = \"datasets/inputs/Philippines_light_intensity.csv\"\n",
    "output_normalized_csv = \"datasets/inputs/Philippines_light_intensity_normalized.csv\"\n",
    "\n",
    "# Loading the extracted data\n",
    "data = pd.read_csv(input_csv)\n",
    "\n",
    "# Normalizing the light intensity column\n",
    "data['normalized_light_intensity'] = (data['light_intensity'] - data['light_intensity'].min()) / \\\n",
    "                                     (data['light_intensity'].max() - data['light_intensity'].min())\n",
    "\n",
    "# Save the normalized data to a new CSV\n",
    "data.to_csv(output_normalized_csv, index=False)\n",
    "print(f\"Normalized VIIRS data saved to {output_normalized_csv}\")"
   ]
  },
  {
   "cell_type": "markdown",
   "metadata": {},
   "source": [
    "##### High-Radiance Zones Extraction"
   ]
  },
  {
   "cell_type": "code",
   "execution_count": 7,
   "metadata": {},
   "outputs": [
    {
     "name": "stdout",
     "output_type": "stream",
     "text": [
      "Urban areas data saved to datasets/processed/Philippines_urban_light_intensity.csv\n"
     ]
    }
   ],
   "source": [
    "# Filepath for the normalized data\n",
    "normalized_csv = \"datasets/inputs/Philippines_light_intensity_normalized.csv\"\n",
    "urban_output_csv = \"datasets/processed/Philippines_urban_light_intensity.csv\"\n",
    "\n",
    "# Loading the normalized data\n",
    "normalized_data = pd.read_csv(normalized_csv).drop('light_intensity', axis=1)\n",
    "\n",
    "# Defining a threshold for high-radiance zones\n",
    "threshold = 0.3\n",
    "\n",
    "# Extracting high-radiance zones\n",
    "urban_data = normalized_data[normalized_data['normalized_light_intensity'] >= threshold]\n",
    "\n",
    "# Saving the extracted urban areas data\n",
    "urban_data.to_csv(urban_output_csv, index=False)\n",
    "print(f\"Urban areas data saved to {urban_output_csv}\")"
   ]
  },
  {
   "cell_type": "code",
   "execution_count": 8,
   "metadata": {},
   "outputs": [
    {
     "data": {
      "text/html": [
       "<div>\n",
       "<style scoped>\n",
       "    .dataframe tbody tr th:only-of-type {\n",
       "        vertical-align: middle;\n",
       "    }\n",
       "\n",
       "    .dataframe tbody tr th {\n",
       "        vertical-align: top;\n",
       "    }\n",
       "\n",
       "    .dataframe thead th {\n",
       "        text-align: right;\n",
       "    }\n",
       "</style>\n",
       "<table border=\"1\" class=\"dataframe\">\n",
       "  <thead>\n",
       "    <tr style=\"text-align: right;\">\n",
       "      <th></th>\n",
       "      <th>longitude</th>\n",
       "      <th>latitude</th>\n",
       "      <th>normalized_light_intensity</th>\n",
       "    </tr>\n",
       "  </thead>\n",
       "  <tbody>\n",
       "    <tr>\n",
       "      <th>3549238</th>\n",
       "      <td>120.100002</td>\n",
       "      <td>16.125000</td>\n",
       "      <td>0.361303</td>\n",
       "    </tr>\n",
       "    <tr>\n",
       "      <th>4522957</th>\n",
       "      <td>120.966669</td>\n",
       "      <td>14.754166</td>\n",
       "      <td>0.354600</td>\n",
       "    </tr>\n",
       "    <tr>\n",
       "      <th>4522958</th>\n",
       "      <td>120.970836</td>\n",
       "      <td>14.754166</td>\n",
       "      <td>0.367698</td>\n",
       "    </tr>\n",
       "    <tr>\n",
       "      <th>4617666</th>\n",
       "      <td>121.054169</td>\n",
       "      <td>14.620833</td>\n",
       "      <td>0.307261</td>\n",
       "    </tr>\n",
       "    <tr>\n",
       "      <th>4620602</th>\n",
       "      <td>120.958336</td>\n",
       "      <td>14.616666</td>\n",
       "      <td>0.513001</td>\n",
       "    </tr>\n",
       "  </tbody>\n",
       "</table>\n",
       "</div>"
      ],
      "text/plain": [
       "          longitude   latitude  normalized_light_intensity\n",
       "3549238  120.100002  16.125000                    0.361303\n",
       "4522957  120.966669  14.754166                    0.354600\n",
       "4522958  120.970836  14.754166                    0.367698\n",
       "4617666  121.054169  14.620833                    0.307261\n",
       "4620602  120.958336  14.616666                    0.513001"
      ]
     },
     "execution_count": 8,
     "metadata": {},
     "output_type": "execute_result"
    }
   ],
   "source": [
    "urban_data.head()"
   ]
  },
  {
   "cell_type": "code",
   "execution_count": 9,
   "metadata": {},
   "outputs": [
    {
     "data": {
      "text/html": [
       "<div>\n",
       "<style scoped>\n",
       "    .dataframe tbody tr th:only-of-type {\n",
       "        vertical-align: middle;\n",
       "    }\n",
       "\n",
       "    .dataframe tbody tr th {\n",
       "        vertical-align: top;\n",
       "    }\n",
       "\n",
       "    .dataframe thead th {\n",
       "        text-align: right;\n",
       "    }\n",
       "</style>\n",
       "<table border=\"1\" class=\"dataframe\">\n",
       "  <thead>\n",
       "    <tr style=\"text-align: right;\">\n",
       "      <th></th>\n",
       "      <th>longitude</th>\n",
       "      <th>latitude</th>\n",
       "      <th>normalized_light_intensity</th>\n",
       "    </tr>\n",
       "  </thead>\n",
       "  <tbody>\n",
       "    <tr>\n",
       "      <th>count</th>\n",
       "      <td>152.000000</td>\n",
       "      <td>152.000000</td>\n",
       "      <td>152.000000</td>\n",
       "    </tr>\n",
       "    <tr>\n",
       "      <th>mean</th>\n",
       "      <td>121.172480</td>\n",
       "      <td>14.234100</td>\n",
       "      <td>0.411548</td>\n",
       "    </tr>\n",
       "    <tr>\n",
       "      <th>std</th>\n",
       "      <td>0.719162</td>\n",
       "      <td>1.154185</td>\n",
       "      <td>0.121967</td>\n",
       "    </tr>\n",
       "    <tr>\n",
       "      <th>min</th>\n",
       "      <td>120.100002</td>\n",
       "      <td>6.904166</td>\n",
       "      <td>0.300249</td>\n",
       "    </tr>\n",
       "    <tr>\n",
       "      <th>25%</th>\n",
       "      <td>120.983336</td>\n",
       "      <td>14.516666</td>\n",
       "      <td>0.330265</td>\n",
       "    </tr>\n",
       "    <tr>\n",
       "      <th>50%</th>\n",
       "      <td>121.004169</td>\n",
       "      <td>14.541666</td>\n",
       "      <td>0.366314</td>\n",
       "    </tr>\n",
       "    <tr>\n",
       "      <th>75%</th>\n",
       "      <td>121.050002</td>\n",
       "      <td>14.580208</td>\n",
       "      <td>0.456612</td>\n",
       "    </tr>\n",
       "    <tr>\n",
       "      <th>max</th>\n",
       "      <td>124.662502</td>\n",
       "      <td>16.125000</td>\n",
       "      <td>1.000000</td>\n",
       "    </tr>\n",
       "  </tbody>\n",
       "</table>\n",
       "</div>"
      ],
      "text/plain": [
       "        longitude    latitude  normalized_light_intensity\n",
       "count  152.000000  152.000000                  152.000000\n",
       "mean   121.172480   14.234100                    0.411548\n",
       "std      0.719162    1.154185                    0.121967\n",
       "min    120.100002    6.904166                    0.300249\n",
       "25%    120.983336   14.516666                    0.330265\n",
       "50%    121.004169   14.541666                    0.366314\n",
       "75%    121.050002   14.580208                    0.456612\n",
       "max    124.662502   16.125000                    1.000000"
      ]
     },
     "execution_count": 9,
     "metadata": {},
     "output_type": "execute_result"
    }
   ],
   "source": [
    "urban_data.describe()"
   ]
  },
  {
   "cell_type": "markdown",
   "metadata": {},
   "source": [
    "#### Taiwan"
   ]
  },
  {
   "cell_type": "markdown",
   "metadata": {},
   "source": [
    "##### Light Intensity Normalization"
   ]
  },
  {
   "cell_type": "code",
   "execution_count": 10,
   "metadata": {},
   "outputs": [
    {
     "name": "stdout",
     "output_type": "stream",
     "text": [
      "Normalized VIIRS data saved to datasets/inputs/Taiwan_light_intensity_normalized.csv\n"
     ]
    }
   ],
   "source": [
    "# Filepath for the outputted CSV file\n",
    "input_csv = \"datasets/inputs/Taiwan_light_intensity.csv\"\n",
    "output_normalized_csv = \"datasets/inputs/Taiwan_light_intensity_normalized.csv\"\n",
    "\n",
    "# Loading the extracted data\n",
    "data = pd.read_csv(input_csv)\n",
    "\n",
    "# Normalizing the light intensity column\n",
    "data['normalized_light_intensity'] = (data['light_intensity'] - data['light_intensity'].min()) / \\\n",
    "                                     (data['light_intensity'].max() - data['light_intensity'].min())\n",
    "\n",
    "# Save the normalized data to a new CSV\n",
    "data.to_csv(output_normalized_csv, index=False)\n",
    "print(f\"Normalized VIIRS data saved to {output_normalized_csv}\")"
   ]
  },
  {
   "cell_type": "markdown",
   "metadata": {},
   "source": [
    "##### High-Radiance Zones Extraction"
   ]
  },
  {
   "cell_type": "code",
   "execution_count": 11,
   "metadata": {},
   "outputs": [
    {
     "name": "stdout",
     "output_type": "stream",
     "text": [
      "Urban areas data saved to datasets/processed/Taiwan_urban_light_intensity.csv\n"
     ]
    }
   ],
   "source": [
    "# Filepath for the normalized data\n",
    "normalized_csv = \"datasets/inputs/Taiwan_light_intensity_normalized.csv\"\n",
    "urban_output_csv = \"datasets/processed/Taiwan_urban_light_intensity.csv\"\n",
    "\n",
    "# Loading the normalized data\n",
    "normalized_data = pd.read_csv(normalized_csv).drop('light_intensity', axis=1)\n",
    "\n",
    "# Defining a threshold for high-radiance zones\n",
    "threshold = 0.3\n",
    "\n",
    "# Extracting high-radiance zones\n",
    "urban_data = normalized_data[normalized_data['normalized_light_intensity'] >= threshold]\n",
    "\n",
    "# Saving the extracted urban areas data\n",
    "urban_data.to_csv(urban_output_csv, index=False)\n",
    "print(f\"Urban areas data saved to {urban_output_csv}\")"
   ]
  },
  {
   "cell_type": "code",
   "execution_count": 12,
   "metadata": {},
   "outputs": [
    {
     "data": {
      "text/html": [
       "<div>\n",
       "<style scoped>\n",
       "    .dataframe tbody tr th:only-of-type {\n",
       "        vertical-align: middle;\n",
       "    }\n",
       "\n",
       "    .dataframe tbody tr th {\n",
       "        vertical-align: top;\n",
       "    }\n",
       "\n",
       "    .dataframe thead th {\n",
       "        text-align: right;\n",
       "    }\n",
       "</style>\n",
       "<table border=\"1\" class=\"dataframe\">\n",
       "  <thead>\n",
       "    <tr style=\"text-align: right;\">\n",
       "      <th></th>\n",
       "      <th>longitude</th>\n",
       "      <th>latitude</th>\n",
       "      <th>normalized_light_intensity</th>\n",
       "    </tr>\n",
       "  </thead>\n",
       "  <tbody>\n",
       "    <tr>\n",
       "      <th>245570</th>\n",
       "      <td>121.750002</td>\n",
       "      <td>25.150000</td>\n",
       "      <td>0.324514</td>\n",
       "    </tr>\n",
       "    <tr>\n",
       "      <th>256488</th>\n",
       "      <td>121.241669</td>\n",
       "      <td>25.100000</td>\n",
       "      <td>0.326211</td>\n",
       "    </tr>\n",
       "    <tr>\n",
       "      <th>257407</th>\n",
       "      <td>121.237502</td>\n",
       "      <td>25.095833</td>\n",
       "      <td>0.386666</td>\n",
       "    </tr>\n",
       "    <tr>\n",
       "      <th>257408</th>\n",
       "      <td>121.241669</td>\n",
       "      <td>25.095833</td>\n",
       "      <td>0.447414</td>\n",
       "    </tr>\n",
       "    <tr>\n",
       "      <th>257409</th>\n",
       "      <td>121.245836</td>\n",
       "      <td>25.095833</td>\n",
       "      <td>0.320626</td>\n",
       "    </tr>\n",
       "  </tbody>\n",
       "</table>\n",
       "</div>"
      ],
      "text/plain": [
       "         longitude   latitude  normalized_light_intensity\n",
       "245570  121.750002  25.150000                    0.324514\n",
       "256488  121.241669  25.100000                    0.326211\n",
       "257407  121.237502  25.095833                    0.386666\n",
       "257408  121.241669  25.095833                    0.447414\n",
       "257409  121.245836  25.095833                    0.320626"
      ]
     },
     "execution_count": 12,
     "metadata": {},
     "output_type": "execute_result"
    }
   ],
   "source": [
    "urban_data.head()"
   ]
  },
  {
   "cell_type": "code",
   "execution_count": 13,
   "metadata": {},
   "outputs": [
    {
     "data": {
      "text/html": [
       "<div>\n",
       "<style scoped>\n",
       "    .dataframe tbody tr th:only-of-type {\n",
       "        vertical-align: middle;\n",
       "    }\n",
       "\n",
       "    .dataframe tbody tr th {\n",
       "        vertical-align: top;\n",
       "    }\n",
       "\n",
       "    .dataframe thead th {\n",
       "        text-align: right;\n",
       "    }\n",
       "</style>\n",
       "<table border=\"1\" class=\"dataframe\">\n",
       "  <thead>\n",
       "    <tr style=\"text-align: right;\">\n",
       "      <th></th>\n",
       "      <th>longitude</th>\n",
       "      <th>latitude</th>\n",
       "      <th>normalized_light_intensity</th>\n",
       "    </tr>\n",
       "  </thead>\n",
       "  <tbody>\n",
       "    <tr>\n",
       "      <th>count</th>\n",
       "      <td>285.000000</td>\n",
       "      <td>285.000000</td>\n",
       "      <td>285.000000</td>\n",
       "    </tr>\n",
       "    <tr>\n",
       "      <th>mean</th>\n",
       "      <td>120.575105</td>\n",
       "      <td>23.443318</td>\n",
       "      <td>0.361170</td>\n",
       "    </tr>\n",
       "    <tr>\n",
       "      <th>std</th>\n",
       "      <td>0.483176</td>\n",
       "      <td>0.974436</td>\n",
       "      <td>0.086443</td>\n",
       "    </tr>\n",
       "    <tr>\n",
       "      <th>min</th>\n",
       "      <td>120.179169</td>\n",
       "      <td>22.491666</td>\n",
       "      <td>0.300001</td>\n",
       "    </tr>\n",
       "    <tr>\n",
       "      <th>25%</th>\n",
       "      <td>120.225002</td>\n",
       "      <td>22.637500</td>\n",
       "      <td>0.315573</td>\n",
       "    </tr>\n",
       "    <tr>\n",
       "      <th>50%</th>\n",
       "      <td>120.329169</td>\n",
       "      <td>22.995833</td>\n",
       "      <td>0.335162</td>\n",
       "    </tr>\n",
       "    <tr>\n",
       "      <th>75%</th>\n",
       "      <td>120.937502</td>\n",
       "      <td>24.145833</td>\n",
       "      <td>0.370983</td>\n",
       "    </tr>\n",
       "    <tr>\n",
       "      <th>max</th>\n",
       "      <td>121.750002</td>\n",
       "      <td>25.150000</td>\n",
       "      <td>1.000000</td>\n",
       "    </tr>\n",
       "  </tbody>\n",
       "</table>\n",
       "</div>"
      ],
      "text/plain": [
       "        longitude    latitude  normalized_light_intensity\n",
       "count  285.000000  285.000000                  285.000000\n",
       "mean   120.575105   23.443318                    0.361170\n",
       "std      0.483176    0.974436                    0.086443\n",
       "min    120.179169   22.491666                    0.300001\n",
       "25%    120.225002   22.637500                    0.315573\n",
       "50%    120.329169   22.995833                    0.335162\n",
       "75%    120.937502   24.145833                    0.370983\n",
       "max    121.750002   25.150000                    1.000000"
      ]
     },
     "execution_count": 13,
     "metadata": {},
     "output_type": "execute_result"
    }
   ],
   "source": [
    "urban_data.describe()"
   ]
  },
  {
   "cell_type": "markdown",
   "metadata": {},
   "source": [
    "#### Combining"
   ]
  },
  {
   "cell_type": "code",
   "execution_count": 14,
   "metadata": {},
   "outputs": [
    {
     "name": "stdout",
     "output_type": "stream",
     "text": [
      "Combined urban light intensity data saved to datasets/processed/combined_urban_light_intensity.csv\n"
     ]
    }
   ],
   "source": [
    "# Filepaths for urban light intensity CSVs\n",
    "urban_csvs = [\n",
    "    \"datasets/processed/Japan_urban_light_intensity.csv\",\n",
    "    \"datasets/processed/Philippines_urban_light_intensity.csv\",\n",
    "    \"datasets/processed/Taiwan_urban_light_intensity.csv\"\n",
    "]\n",
    "\n",
    "# Output filepath for the combined CSV\n",
    "combined_csv = \"datasets/processed/combined_urban_light_intensity.csv\"\n",
    "\n",
    "# Initializing an empty list to store DataFrames\n",
    "urban_dfs = []\n",
    "\n",
    "# Looping through each file and load data\n",
    "for csv_path in urban_csvs:\n",
    "    # Extracting the country name from the file path for tagging\n",
    "    country_name = csv_path.split(\"/\")[-1].split(\"_\")[0]\n",
    "    \n",
    "    # Load the CSV into a DataFrame\n",
    "    df = pd.read_csv(csv_path)\n",
    "    \n",
    "    # Add a column for the country name\n",
    "    df['country'] = country_name\n",
    "    \n",
    "    # Append the DataFrame to the list\n",
    "    urban_dfs.append(df)\n",
    "\n",
    "# Concatenate all the DataFrames\n",
    "combined_df = pd.concat(urban_dfs, ignore_index=True)\n",
    "\n",
    "# Save the combined DataFrame to a CSV file\n",
    "combined_df.to_csv(combined_csv, index=False)\n",
    "print(f\"Combined urban light intensity data saved to {combined_csv}\")"
   ]
  }
 ],
 "metadata": {
  "kernelspec": {
   "display_name": "env",
   "language": "python",
   "name": "python3"
  },
  "language_info": {
   "codemirror_mode": {
    "name": "ipython",
    "version": 3
   },
   "file_extension": ".py",
   "mimetype": "text/x-python",
   "name": "python",
   "nbconvert_exporter": "python",
   "pygments_lexer": "ipython3",
   "version": "3.12.3"
  }
 },
 "nbformat": 4,
 "nbformat_minor": 2
}
