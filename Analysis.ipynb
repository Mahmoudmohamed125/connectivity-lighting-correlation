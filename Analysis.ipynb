{
 "cells": [
  {
   "cell_type": "markdown",
   "metadata": {},
   "source": [
    "# Data Preprocessing"
   ]
  },
  {
   "cell_type": "markdown",
   "metadata": {},
   "source": [
    "## Loading and Normalizing CSV Data"
   ]
  },
  {
   "cell_type": "markdown",
   "metadata": {},
   "source": [
    "### VIIRS Data"
   ]
  },
  {
   "cell_type": "code",
   "execution_count": 1,
   "metadata": {},
   "outputs": [
    {
     "name": "stdout",
     "output_type": "stream",
     "text": [
      "Normalized VIIRS data saved to Japan_light_intensity_normalized.csv\n"
     ]
    }
   ],
   "source": [
    "import pandas as pd\n",
    "import numpy as np\n",
    "\n",
    "# Filepath for the outputted CSV file\n",
    "input_csv = \"Japan_light_intensity.csv\"\n",
    "output_normalized_csv = \"Japan_light_intensity_normalized.csv\"\n",
    "\n",
    "# Load the extracted data\n",
    "data = pd.read_csv(input_csv)\n",
    "\n",
    "# Normalize the light intensity column\n",
    "data['normalized_light_intensity'] = (data['light_intensity'] - data['light_intensity'].min()) / \\\n",
    "                                     (data['light_intensity'].max() - data['light_intensity'].min())\n",
    "\n",
    "# Save the normalized data to a new CSV\n",
    "data.to_csv(output_normalized_csv, index=False)\n",
    "print(f\"Normalized VIIRS data saved to {output_normalized_csv}\")"
   ]
  },
  {
   "cell_type": "code",
   "execution_count": 2,
   "metadata": {},
   "outputs": [
    {
     "data": {
      "text/html": [
       "<div>\n",
       "<style scoped>\n",
       "    .dataframe tbody tr th:only-of-type {\n",
       "        vertical-align: middle;\n",
       "    }\n",
       "\n",
       "    .dataframe tbody tr th {\n",
       "        vertical-align: top;\n",
       "    }\n",
       "\n",
       "    .dataframe thead th {\n",
       "        text-align: right;\n",
       "    }\n",
       "</style>\n",
       "<table border=\"1\" class=\"dataframe\">\n",
       "  <thead>\n",
       "    <tr style=\"text-align: right;\">\n",
       "      <th></th>\n",
       "      <th>longitude</th>\n",
       "      <th>latitude</th>\n",
       "      <th>light_intensity</th>\n",
       "      <th>normalized_light_intensity</th>\n",
       "    </tr>\n",
       "  </thead>\n",
       "  <tbody>\n",
       "    <tr>\n",
       "      <th>0</th>\n",
       "      <td>122.933334</td>\n",
       "      <td>45.558333</td>\n",
       "      <td>0.0</td>\n",
       "      <td>0.000433</td>\n",
       "    </tr>\n",
       "    <tr>\n",
       "      <th>1</th>\n",
       "      <td>122.937501</td>\n",
       "      <td>45.558333</td>\n",
       "      <td>0.0</td>\n",
       "      <td>0.000433</td>\n",
       "    </tr>\n",
       "    <tr>\n",
       "      <th>2</th>\n",
       "      <td>122.941667</td>\n",
       "      <td>45.558333</td>\n",
       "      <td>0.0</td>\n",
       "      <td>0.000433</td>\n",
       "    </tr>\n",
       "    <tr>\n",
       "      <th>3</th>\n",
       "      <td>122.945834</td>\n",
       "      <td>45.558333</td>\n",
       "      <td>0.0</td>\n",
       "      <td>0.000433</td>\n",
       "    </tr>\n",
       "    <tr>\n",
       "      <th>4</th>\n",
       "      <td>122.950001</td>\n",
       "      <td>45.558333</td>\n",
       "      <td>0.0</td>\n",
       "      <td>0.000433</td>\n",
       "    </tr>\n",
       "    <tr>\n",
       "      <th>...</th>\n",
       "      <td>...</td>\n",
       "      <td>...</td>\n",
       "      <td>...</td>\n",
       "      <td>...</td>\n",
       "    </tr>\n",
       "    <tr>\n",
       "      <th>38492451</th>\n",
       "      <td>153.970834</td>\n",
       "      <td>24.045833</td>\n",
       "      <td>0.0</td>\n",
       "      <td>0.000433</td>\n",
       "    </tr>\n",
       "    <tr>\n",
       "      <th>38492452</th>\n",
       "      <td>153.975001</td>\n",
       "      <td>24.045833</td>\n",
       "      <td>0.0</td>\n",
       "      <td>0.000433</td>\n",
       "    </tr>\n",
       "    <tr>\n",
       "      <th>38492453</th>\n",
       "      <td>153.979167</td>\n",
       "      <td>24.045833</td>\n",
       "      <td>0.0</td>\n",
       "      <td>0.000433</td>\n",
       "    </tr>\n",
       "    <tr>\n",
       "      <th>38492454</th>\n",
       "      <td>153.983334</td>\n",
       "      <td>24.045833</td>\n",
       "      <td>0.0</td>\n",
       "      <td>0.000433</td>\n",
       "    </tr>\n",
       "    <tr>\n",
       "      <th>38492455</th>\n",
       "      <td>153.987501</td>\n",
       "      <td>24.045833</td>\n",
       "      <td>0.0</td>\n",
       "      <td>0.000433</td>\n",
       "    </tr>\n",
       "  </tbody>\n",
       "</table>\n",
       "<p>38492456 rows × 4 columns</p>\n",
       "</div>"
      ],
      "text/plain": [
       "           longitude   latitude  light_intensity  normalized_light_intensity\n",
       "0         122.933334  45.558333              0.0                    0.000433\n",
       "1         122.937501  45.558333              0.0                    0.000433\n",
       "2         122.941667  45.558333              0.0                    0.000433\n",
       "3         122.945834  45.558333              0.0                    0.000433\n",
       "4         122.950001  45.558333              0.0                    0.000433\n",
       "...              ...        ...              ...                         ...\n",
       "38492451  153.970834  24.045833              0.0                    0.000433\n",
       "38492452  153.975001  24.045833              0.0                    0.000433\n",
       "38492453  153.979167  24.045833              0.0                    0.000433\n",
       "38492454  153.983334  24.045833              0.0                    0.000433\n",
       "38492455  153.987501  24.045833              0.0                    0.000433\n",
       "\n",
       "[38492456 rows x 4 columns]"
      ]
     },
     "execution_count": 2,
     "metadata": {},
     "output_type": "execute_result"
    }
   ],
   "source": [
    "df = pd.read_csv(\"Japan_light_intensity_normalized.csv\")\n",
    "df"
   ]
  }
 ],
 "metadata": {
  "kernelspec": {
   "display_name": "env",
   "language": "python",
   "name": "python3"
  },
  "language_info": {
   "codemirror_mode": {
    "name": "ipython",
    "version": 3
   },
   "file_extension": ".py",
   "mimetype": "text/x-python",
   "name": "python",
   "nbconvert_exporter": "python",
   "pygments_lexer": "ipython3",
   "version": "3.12.3"
  }
 },
 "nbformat": 4,
 "nbformat_minor": 2
}
