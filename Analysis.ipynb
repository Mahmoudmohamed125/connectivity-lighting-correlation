{
 "cells": [
  {
   "cell_type": "markdown",
   "metadata": {},
   "source": [
    "# Extracting datasets"
   ]
  },
  {
   "cell_type": "markdown",
   "metadata": {},
   "source": [
    "## Relevant Imports"
   ]
  },
  {
   "cell_type": "code",
   "execution_count": 1,
   "metadata": {},
   "outputs": [],
   "source": [
    "%matplotlib inline\n",
    "\n",
    "from datetime import datetime\n",
    "\n",
    "import geopandas as gpd\n",
    "import matplotlib\n",
    "import matplotlib.pyplot as plt\n",
    "import numpy as np\n",
    "import pandas as pd\n",
    "import rasterio\n",
    "\n",
    "from adjustText import adjust_text\n",
    "from shapely.geometry import Point, box\n",
    "from rasterio.mask import mask"
   ]
  },
  {
   "cell_type": "code",
   "execution_count": 5,
   "metadata": {},
   "outputs": [
    {
     "name": "stdout",
     "output_type": "stream",
     "text": [
      "[122.93391306  24.04561583 153.98667512  45.55723905]\n",
      "Raster Bounds: BoundingBox(left=59.99791666665, bottom=0.0020827333499937595, right=179.99791762665, top=75.00208333335)\n",
      "Germany Bounds: [122.93391306  24.04561583 153.98667512  45.55723905]\n"
     ]
    },
    {
     "name": "stderr",
     "output_type": "stream",
     "text": [
      "C:\\Users\\bodbo\\AppData\\Local\\Temp\\ipykernel_25020\\2084866690.py:17: DeprecationWarning: The 'unary_union' attribute is deprecated, use the 'union_all()' method instead.\n",
      "  if not raster_bounds.intersects(Germany.unary_union):\n"
     ]
    },
    {
     "ename": "",
     "evalue": "",
     "output_type": "error",
     "traceback": [
      "\u001b[1;31mThe Kernel crashed while executing code in the current cell or a previous cell. \n",
      "\u001b[1;31mPlease review the code in the cell(s) to identify a possible cause of the failure. \n",
      "\u001b[1;31mClick <a href='https://aka.ms/vscodeJupyterKernelCrash'>here</a> for more info. \n",
      "\u001b[1;31mView Jupyter <a href='command:jupyter.viewOutput'>log</a> for further details."
     ]
    }
   ],
   "source": [
    "# Filepaths\n",
    "raster_file = r'SVDNB_npp_20230101-20230131_75N060E_vcmcfg_v10_c202302080600.avg_rade9h.tif'\n",
    "boundary_file = r'boundaries\\geoBoundaries-JPN-ADM0.geojson'\n",
    "output_csv = r'Germany_light_intensity.csv'\n",
    "\n",
    "# Load Germany's Boundary\n",
    "Germany = gpd.read_file(boundary_file)\n",
    "Germany = Germany.to_crs(epsg=4326)\n",
    "\n",
    "print(Germany.total_bounds)\n",
    "# Open the Raster and Check Overlap\n",
    "with rasterio.open(raster_file) as src:\n",
    "    raster_bounds = box(*src.bounds)\n",
    "    print(\"Raster Bounds:\", src.bounds)\n",
    "    print(\"Germany Bounds:\", Germany.total_bounds)\n",
    "\n",
    "    if not raster_bounds.intersects(Germany.unary_union):\n",
    "        raise ValueError(\"Germany's boundary does not overlap with the raster extent.\")\n",
    "\n",
    "    # Clip the raster\n",
    "    Germany_geom_list = [feature[\"geometry\"] for feature in Germany.__geo_interface__[\"features\"]]\n",
    "    clipped_raster, clipped_transform = mask(src, Germany_geom_list, crop=True)\n",
    "\n",
    "# Extract Raster Values\n",
    "light_intensity = clipped_raster[0]\n",
    "rows, cols = np.where(~np.isnan(light_intensity))\n",
    "values = light_intensity[rows, cols]\n",
    "x_coords, y_coords = rasterio.transform.xy(clipped_transform, rows, cols)\n",
    "\n",
    "data = pd.DataFrame({\n",
    "    'longitude': x_coords,\n",
    "    'latitude': y_coords,\n",
    "    'light_intensity': values\n",
    "})\n",
    "data.to_csv(output_csv, index=False)\n",
    "print(f\"Extracted data saved to {output_csv}\")\n"
   ]
  },
  {
   "cell_type": "markdown",
   "metadata": {},
   "source": [
    "## Ookla Speedtest Data"
   ]
  },
  {
   "cell_type": "code",
   "execution_count": 2,
   "metadata": {},
   "outputs": [],
   "source": [
    "def quarter_start(year: int, q: int) -> datetime:\n",
    "    if not 1 <= q <= 4:\n",
    "        raise ValueError(\"Quarter must be within [1, 2, 3, 4]\")\n",
    "\n",
    "    month = [1, 4, 7, 10]\n",
    "    return datetime(year, month[q - 1], 1)\n",
    "\n",
    "\n",
    "def get_tile_url(service_type: str, year: int, q: int) -> str:\n",
    "    dt = quarter_start(year, q)\n",
    "\n",
    "    base_url = \"https://ookla-open-data.s3-us-west-2.amazonaws.com/shapefiles/performance\"\n",
    "    url = f\"{base_url}/type%3D{service_type}/year%3D{dt:%Y}/quarter%3D{q}/{dt:%Y-%m-%d}_performance_{service_type}_tiles.zip\"\n",
    "    return url"
   ]
  },
  {
   "cell_type": "code",
   "execution_count": 3,
   "metadata": {},
   "outputs": [
    {
     "data": {
      "text/plain": [
       "'https://ookla-open-data.s3-us-west-2.amazonaws.com/shapefiles/performance/type%3Dfixed/year%3D2020/quarter%3D2/2020-04-01_performance_fixed_tiles.zip'"
      ]
     },
     "execution_count": 3,
     "metadata": {},
     "output_type": "execute_result"
    }
   ],
   "source": [
    "tile_url = get_tile_url(\"fixed\", 2020, 2)\n",
    "tile_url"
   ]
  },
  {
   "cell_type": "code",
   "execution_count": 4,
   "metadata": {},
   "outputs": [],
   "source": [
    "tiles = gp.read_file(tile_url)"
   ]
  },
  {
   "cell_type": "code",
   "execution_count": 5,
   "metadata": {},
   "outputs": [
    {
     "data": {
      "text/html": [
       "<div>\n",
       "<style scoped>\n",
       "    .dataframe tbody tr th:only-of-type {\n",
       "        vertical-align: middle;\n",
       "    }\n",
       "\n",
       "    .dataframe tbody tr th {\n",
       "        vertical-align: top;\n",
       "    }\n",
       "\n",
       "    .dataframe thead th {\n",
       "        text-align: right;\n",
       "    }\n",
       "</style>\n",
       "<table border=\"1\" class=\"dataframe\">\n",
       "  <thead>\n",
       "    <tr style=\"text-align: right;\">\n",
       "      <th></th>\n",
       "      <th>quadkey</th>\n",
       "      <th>avg_d_kbps</th>\n",
       "      <th>avg_u_kbps</th>\n",
       "      <th>avg_lat_ms</th>\n",
       "      <th>tests</th>\n",
       "      <th>devices</th>\n",
       "      <th>geometry</th>\n",
       "    </tr>\n",
       "  </thead>\n",
       "  <tbody>\n",
       "    <tr>\n",
       "      <th>0</th>\n",
       "      <td>0022133222313202</td>\n",
       "      <td>8630</td>\n",
       "      <td>3638</td>\n",
       "      <td>44</td>\n",
       "      <td>1</td>\n",
       "      <td>1</td>\n",
       "      <td>POLYGON ((-160.00488 70.64723, -159.99939 70.6...</td>\n",
       "    </tr>\n",
       "    <tr>\n",
       "      <th>1</th>\n",
       "      <td>0022133222330023</td>\n",
       "      <td>597</td>\n",
       "      <td>597</td>\n",
       "      <td>43</td>\n",
       "      <td>1</td>\n",
       "      <td>1</td>\n",
       "      <td>POLYGON ((-160.04333 70.63631, -160.03784 70.6...</td>\n",
       "    </tr>\n",
       "    <tr>\n",
       "      <th>2</th>\n",
       "      <td>0022133222330203</td>\n",
       "      <td>9183</td>\n",
       "      <td>2949</td>\n",
       "      <td>43</td>\n",
       "      <td>1</td>\n",
       "      <td>1</td>\n",
       "      <td>POLYGON ((-160.04333 70.63266, -160.03784 70.6...</td>\n",
       "    </tr>\n",
       "    <tr>\n",
       "      <th>3</th>\n",
       "      <td>0022330200132223</td>\n",
       "      <td>4208</td>\n",
       "      <td>4032</td>\n",
       "      <td>27</td>\n",
       "      <td>1</td>\n",
       "      <td>1</td>\n",
       "      <td>POLYGON ((-162.85583 68.07536, -162.85034 68.0...</td>\n",
       "    </tr>\n",
       "    <tr>\n",
       "      <th>4</th>\n",
       "      <td>0022332201321330</td>\n",
       "      <td>9971</td>\n",
       "      <td>3661</td>\n",
       "      <td>32</td>\n",
       "      <td>1</td>\n",
       "      <td>1</td>\n",
       "      <td>POLYGON ((-162.52075 66.95158, -162.51526 66.9...</td>\n",
       "    </tr>\n",
       "  </tbody>\n",
       "</table>\n",
       "</div>"
      ],
      "text/plain": [
       "            quadkey  avg_d_kbps  avg_u_kbps  avg_lat_ms  tests  devices  \\\n",
       "0  0022133222313202        8630        3638          44      1        1   \n",
       "1  0022133222330023         597         597          43      1        1   \n",
       "2  0022133222330203        9183        2949          43      1        1   \n",
       "3  0022330200132223        4208        4032          27      1        1   \n",
       "4  0022332201321330        9971        3661          32      1        1   \n",
       "\n",
       "                                            geometry  \n",
       "0  POLYGON ((-160.00488 70.64723, -159.99939 70.6...  \n",
       "1  POLYGON ((-160.04333 70.63631, -160.03784 70.6...  \n",
       "2  POLYGON ((-160.04333 70.63266, -160.03784 70.6...  \n",
       "3  POLYGON ((-162.85583 68.07536, -162.85034 68.0...  \n",
       "4  POLYGON ((-162.52075 66.95158, -162.51526 66.9...  "
      ]
     },
     "execution_count": 5,
     "metadata": {},
     "output_type": "execute_result"
    }
   ],
   "source": [
    "tiles.head()"
   ]
  },
  {
   "cell_type": "markdown",
   "metadata": {},
   "source": [
    "## VIIRS Data"
   ]
  },
  {
   "cell_type": "markdown",
   "metadata": {},
   "source": []
  },
  {
   "cell_type": "code",
   "execution_count": null,
   "metadata": {},
   "outputs": [],
   "source": [
    "import numpy as np\n",
    "import matplotlib.pyplot as plt\n",
    "\n",
    "# Sample data: approval times (in hours) over 30 days\n",
    "approval_times = [\n",
    "    22, 23, 25, 24, 26, 27, 22, 20, 25, 24, 28, 23, 22, 21, 18, \n",
    "    27, 25, 24, 19, 29, 30, 25, 26, 22, 21, 24, 23, 28, 29, 27\n",
    "]\n",
    "\n",
    "# Calculate mean and standard deviation\n",
    "mean_approval_time = np.mean(approval_times)\n",
    "std_dev_approval_time = np.std(approval_times)\n",
    "\n",
    "# Calculate control limits\n",
    "UCL = mean_approval_time + 3 * std_dev_approval_time\n",
    "LCL = mean_approval_time - 3 * std_dev_approval_time\n",
    "\n",
    "# Generate x-axis values (days)\n",
    "days = np.arange(1, len(approval_times) + 1)\n",
    "\n",
    "# Plot the control chart\n",
    "plt.figure(figsize=(10, 6))\n",
    "plt.plot(days, approval_times, marker='o', label='Approval Times', color='blue')\n",
    "plt.axhline(mean_approval_time, color='green', linestyle='--', label='Mean')\n",
    "plt.axhline(UCL, color='red', linestyle='--', label='UCL (Upper Control Limit)')\n",
    "plt.axhline(LCL, color='red', linestyle='--', label='LCL (Lower Control Limit)')\n",
    "\n",
    "# Chart formatting\n",
    "plt.title('Control Chart for Approval Times')\n",
    "plt.xlabel('Days')\n",
    "plt.ylabel('Approval Time (hours)')\n",
    "plt.xticks(days)\n",
    "plt.legend()\n",
    "plt.grid(True)\n",
    "\n",
    "# Show the plot\n",
    "plt.tight_layout()\n",
    "plt.show()\n"
   ]
  }
 ],
 "metadata": {
  "kernelspec": {
   "display_name": "env",
   "language": "python",
   "name": "python3"
  },
  "language_info": {
   "codemirror_mode": {
    "name": "ipython",
    "version": 3
   },
   "file_extension": ".py",
   "mimetype": "text/x-python",
   "name": "python",
   "nbconvert_exporter": "python",
   "pygments_lexer": "ipython3",
   "version": "3.12.3"
  }
 },
 "nbformat": 4,
 "nbformat_minor": 2
}
