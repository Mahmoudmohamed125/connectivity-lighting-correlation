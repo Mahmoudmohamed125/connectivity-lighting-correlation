{
 "cells": [
  {
   "cell_type": "code",
   "execution_count": 8,
   "metadata": {},
   "outputs": [],
   "source": [
    "%matplotlib inline\n",
    "\n",
    "from datetime import datetime\n",
    "import geopandas as gpd\n",
    "import matplotlib\n",
    "import matplotlib.pyplot as plt\n",
    "import pandas as pd\n",
    "import numpy as np\n",
    "from shapely.geometry import Point\n",
    "from adjustText import adjust_text"
   ]
  },
  {
   "cell_type": "code",
   "execution_count": 2,
   "metadata": {},
   "outputs": [],
   "source": [
    "def quarter_start(year: int, q: int) -> datetime:\n",
    "    if not 1 <= q <= 4:\n",
    "        raise ValueError(\"Quarter must be within [1, 2, 3, 4]\")\n",
    "\n",
    "    month = [1, 4, 7, 10]\n",
    "    return datetime(year, month[q - 1], 1)\n"
   ]
  },
  {
   "cell_type": "code",
   "execution_count": 3,
   "metadata": {},
   "outputs": [],
   "source": [
    "def get_tile_url(service_type: str, year: int, q: int) -> str:\n",
    "    dt = quarter_start(year, q)\n",
    "    base_url = \"https://ookla-open-data.s3-us-west-2.amazonaws.com/shapefiles/performance\"\n",
    "    url = f\"{base_url}/type%3D{service_type}/year%3D{dt:%Y}/quarter%3D{q}/{dt:%Y-%m-%d}_performance_{service_type}_tiles.zip\"\n",
    "    return url"
   ]
  },
  {
   "cell_type": "code",
   "execution_count": 4,
   "metadata": {},
   "outputs": [
    {
     "name": "stdout",
     "output_type": "stream",
     "text": [
      "Fetching data from: https://ookla-open-data.s3-us-west-2.amazonaws.com/shapefiles/performance/type%3Dfixed/year%3D2023/quarter%3D2/2023-04-01_performance_fixed_tiles.zip\n"
     ]
    },
    {
     "data": {
      "text/html": [
       "<div>\n",
       "<style scoped>\n",
       "    .dataframe tbody tr th:only-of-type {\n",
       "        vertical-align: middle;\n",
       "    }\n",
       "\n",
       "    .dataframe tbody tr th {\n",
       "        vertical-align: top;\n",
       "    }\n",
       "\n",
       "    .dataframe thead th {\n",
       "        text-align: right;\n",
       "    }\n",
       "</style>\n",
       "<table border=\"1\" class=\"dataframe\">\n",
       "  <thead>\n",
       "    <tr style=\"text-align: right;\">\n",
       "      <th></th>\n",
       "      <th>quadkey</th>\n",
       "      <th>avg_d_kbps</th>\n",
       "      <th>avg_u_kbps</th>\n",
       "      <th>avg_lat_ms</th>\n",
       "      <th>tests</th>\n",
       "      <th>devices</th>\n",
       "      <th>geometry</th>\n",
       "    </tr>\n",
       "  </thead>\n",
       "  <tbody>\n",
       "    <tr>\n",
       "      <th>0</th>\n",
       "      <td>0022133222312322</td>\n",
       "      <td>94200</td>\n",
       "      <td>7623</td>\n",
       "      <td>251</td>\n",
       "      <td>3</td>\n",
       "      <td>2</td>\n",
       "      <td>POLYGON ((-160.02686 70.64359, -160.02136 70.6...</td>\n",
       "    </tr>\n",
       "    <tr>\n",
       "      <th>1</th>\n",
       "      <td>0022133222330023</td>\n",
       "      <td>113863</td>\n",
       "      <td>14980</td>\n",
       "      <td>132</td>\n",
       "      <td>6</td>\n",
       "      <td>3</td>\n",
       "      <td>POLYGON ((-160.04333 70.63631, -160.03784 70.6...</td>\n",
       "    </tr>\n",
       "    <tr>\n",
       "      <th>2</th>\n",
       "      <td>0022133222330032</td>\n",
       "      <td>80397</td>\n",
       "      <td>19455</td>\n",
       "      <td>126</td>\n",
       "      <td>5</td>\n",
       "      <td>3</td>\n",
       "      <td>POLYGON ((-160.03784 70.63631, -160.03235 70.6...</td>\n",
       "    </tr>\n",
       "    <tr>\n",
       "      <th>3</th>\n",
       "      <td>0022133222330100</td>\n",
       "      <td>230050</td>\n",
       "      <td>16208</td>\n",
       "      <td>110</td>\n",
       "      <td>1</td>\n",
       "      <td>1</td>\n",
       "      <td>POLYGON ((-160.02686 70.64177, -160.02136 70.6...</td>\n",
       "    </tr>\n",
       "    <tr>\n",
       "      <th>4</th>\n",
       "      <td>0022133222330210</td>\n",
       "      <td>121560</td>\n",
       "      <td>7163</td>\n",
       "      <td>169</td>\n",
       "      <td>8</td>\n",
       "      <td>4</td>\n",
       "      <td>POLYGON ((-160.03784 70.63448, -160.03235 70.6...</td>\n",
       "    </tr>\n",
       "  </tbody>\n",
       "</table>\n",
       "</div>"
      ],
      "text/plain": [
       "            quadkey  avg_d_kbps  avg_u_kbps  avg_lat_ms  tests  devices  \\\n",
       "0  0022133222312322       94200        7623         251      3        2   \n",
       "1  0022133222330023      113863       14980         132      6        3   \n",
       "2  0022133222330032       80397       19455         126      5        3   \n",
       "3  0022133222330100      230050       16208         110      1        1   \n",
       "4  0022133222330210      121560        7163         169      8        4   \n",
       "\n",
       "                                            geometry  \n",
       "0  POLYGON ((-160.02686 70.64359, -160.02136 70.6...  \n",
       "1  POLYGON ((-160.04333 70.63631, -160.03784 70.6...  \n",
       "2  POLYGON ((-160.03784 70.63631, -160.03235 70.6...  \n",
       "3  POLYGON ((-160.02686 70.64177, -160.02136 70.6...  \n",
       "4  POLYGON ((-160.03784 70.63448, -160.03235 70.6...  "
      ]
     },
     "execution_count": 4,
     "metadata": {},
     "output_type": "execute_result"
    }
   ],
   "source": [
    "# Download data\n",
    "tile_url = get_tile_url(\"fixed\", 2023, 2)\n",
    "print(f\"Fetching data from: {tile_url}\")\n",
    "tiles = gp.read_file(tile_url)\n",
    "tiles.head()"
   ]
  },
  {
   "cell_type": "code",
   "execution_count": 11,
   "metadata": {},
   "outputs": [
    {
     "name": "stdout",
     "output_type": "stream",
     "text": [
      "Philippines boundary loaded:\n",
      "         shapeName shapeISO                  shapeID shapeGroup shapeType  \\\n",
      "0  The Philippines           24100683B85265433280220        PHL      ADM0   \n",
      "\n",
      "                                            geometry  \n",
      "0  MULTIPOLYGON (((119.46876 4.5936, 119.46807 4....  \n",
      "Japan boundary loaded:\n",
      "  shapeName shapeISO                  shapeID shapeGroup shapeType  \\\n",
      "0     Japan      JPN  22093344B50624940221487        JPN      ADM0   \n",
      "\n",
      "                                            geometry  \n",
      "0  MULTIPOLYGON (((123.76601 24.06841, 123.76603 ...  \n",
      "Taiwan boundary loaded:\n",
      "           shapeName shapeISO                 shapeID shapeGroup shapeType  \\\n",
      "0  Republic Of China      TWN  7377636B13659935760300        TWN      ADM0   \n",
      "\n",
      "                                            geometry  \n",
      "0  MULTIPOLYGON (((121.60839 22.00133, 121.60884 ...  \n",
      "Combined tiles data:\n",
      "            quadkey  avg_d_kbps  avg_u_kbps  avg_lat_ms  tests  devices  \\\n",
      "0  1323011030310113        4316        4823         692     11        2   \n",
      "1  1323011032300102      206323       19596          82      5        1   \n",
      "2  1323011032300103      182322       24493          84      5        1   \n",
      "3  1323011210311033       70750       10919          95    165       25   \n",
      "4  1323011210311122       97904       14878         188    206       26   \n",
      "\n",
      "                                            geometry  index_right  \\\n",
      "0  POLYGON ((121.94275 21.12037, 121.94824 21.120...            0   \n",
      "1  POLYGON ((121.83838 20.79207, 121.84387 20.792...            0   \n",
      "2  POLYGON ((121.84387 20.79207, 121.84937 20.792...            0   \n",
      "3  POLYGON ((121.96472 20.45275, 121.97021 20.452...            0   \n",
      "4  POLYGON ((121.97021 20.45275, 121.97571 20.452...            0   \n",
      "\n",
      "         shapeName shapeISO                  shapeID shapeGroup shapeType  \\\n",
      "0  The Philippines           24100683B85265433280220        PHL      ADM0   \n",
      "1  The Philippines           24100683B85265433280220        PHL      ADM0   \n",
      "2  The Philippines           24100683B85265433280220        PHL      ADM0   \n",
      "3  The Philippines           24100683B85265433280220        PHL      ADM0   \n",
      "4  The Philippines           24100683B85265433280220        PHL      ADM0   \n",
      "\n",
      "   avg_d_mbps  avg_u_mbps      country  \n",
      "0       4.316       4.823  Philippines  \n",
      "1     206.323      19.596  Philippines  \n",
      "2     182.322      24.493  Philippines  \n",
      "3      70.750      10.919  Philippines  \n",
      "4      97.904      14.878  Philippines  \n"
     ]
    }
   ],
   "source": [
    "import os\n",
    "\n",
    "# Define the relative path to the boundaries folder\n",
    "boundaries_folder = \"./boundaires/\" \n",
    "\n",
    "# Dictionary with country names and corresponding file names\n",
    "geojson_files = {\n",
    "    \"Philippines\": os.path.join(boundaries_folder, \"geoBoundaries-PHL-ADM0.geojson\"),\n",
    "    \"Japan\": os.path.join(boundaries_folder, \"geoBoundaries-JPN-ADM0.geojson\"),\n",
    "    \"Taiwan\": os.path.join(boundaries_folder, \"geoBoundaries-TWN-ADM0.geojson\"),\n",
    "}\n",
    "\n",
    "# Initialize an empty list to store results\n",
    "all_tiles = []\n",
    "\n",
    "# Loop through each country and process the tiles\n",
    "for country, geojson_path in geojson_files.items():\n",
    "    # Load the boundary from GeoJSON file\n",
    "    boundary = gpd.read_file(geojson_path)\n",
    "    boundary = boundary.to_crs(4326)  # Ensure CRS matches the tiles\n",
    "    print(f\"{country} boundary loaded:\")\n",
    "    print(boundary.head())\n",
    "    \n",
    "    \n",
    "    # Perform spatial join between tiles and the country's boundary\n",
    "    country_tiles = gpd.sjoin(tiles, boundary, how=\"inner\", predicate='intersects')\n",
    "\n",
    "    \n",
    "    # Convert speeds to Mbps\n",
    "    country_tiles['avg_d_mbps'] = country_tiles['avg_d_kbps'] / 1000\n",
    "    country_tiles['avg_u_mbps'] = country_tiles['avg_u_kbps'] / 1000\n",
    "    country_tiles['country'] = country  # Add a column to distinguish countries\n",
    "    \n",
    "    # Append to the list\n",
    "    all_tiles.append(country_tiles)\n",
    "\n",
    "# Combine all results into a single GeoDataFrame\n",
    "combined_tiles = gpd.GeoDataFrame(pd.concat(all_tiles, ignore_index=True))\n",
    "print(\"Combined tiles data:\")\n",
    "print(combined_tiles.head())\n",
    "\n",
    "# save as csv file \n",
    "combined_tiles.to_csv(\"combined_tiles.csv\", index=False)\n"
   ]
  },
  {
   "cell_type": "code",
   "execution_count": null,
   "metadata": {},
   "outputs": [],
   "source": []
  },
  {
   "cell_type": "code",
   "execution_count": null,
   "metadata": {},
   "outputs": [],
   "source": []
  },
  {
   "cell_type": "code",
   "execution_count": null,
   "metadata": {},
   "outputs": [],
   "source": []
  },
  {
   "cell_type": "code",
   "execution_count": null,
   "metadata": {},
   "outputs": [],
   "source": []
  },
  {
   "cell_type": "code",
   "execution_count": null,
   "metadata": {},
   "outputs": [],
   "source": []
  },
  {
   "cell_type": "code",
   "execution_count": null,
   "metadata": {},
   "outputs": [],
   "source": []
  },
  {
   "cell_type": "code",
   "execution_count": null,
   "metadata": {},
   "outputs": [],
   "source": []
  },
  {
   "cell_type": "code",
   "execution_count": null,
   "metadata": {},
   "outputs": [],
   "source": []
  },
  {
   "cell_type": "code",
   "execution_count": null,
   "metadata": {},
   "outputs": [],
   "source": []
  },
  {
   "cell_type": "code",
   "execution_count": null,
   "metadata": {},
   "outputs": [],
   "source": []
  },
  {
   "cell_type": "code",
   "execution_count": null,
   "metadata": {},
   "outputs": [],
   "source": []
  },
  {
   "cell_type": "code",
   "execution_count": null,
   "metadata": {},
   "outputs": [],
   "source": []
  },
  {
   "cell_type": "code",
   "execution_count": null,
   "metadata": {},
   "outputs": [],
   "source": []
  },
  {
   "cell_type": "code",
   "execution_count": null,
   "metadata": {},
   "outputs": [],
   "source": []
  },
  {
   "cell_type": "code",
   "execution_count": null,
   "metadata": {},
   "outputs": [],
   "source": []
  },
  {
   "cell_type": "code",
   "execution_count": null,
   "metadata": {},
   "outputs": [],
   "source": []
  },
  {
   "cell_type": "code",
   "execution_count": null,
   "metadata": {},
   "outputs": [],
   "source": []
  },
  {
   "cell_type": "code",
   "execution_count": null,
   "metadata": {},
   "outputs": [],
   "source": []
  },
  {
   "cell_type": "code",
   "execution_count": null,
   "metadata": {},
   "outputs": [],
   "source": []
  },
  {
   "cell_type": "code",
   "execution_count": null,
   "metadata": {},
   "outputs": [],
   "source": []
  },
  {
   "cell_type": "code",
   "execution_count": null,
   "metadata": {},
   "outputs": [],
   "source": []
  },
  {
   "cell_type": "code",
   "execution_count": null,
   "metadata": {},
   "outputs": [],
   "source": []
  },
  {
   "cell_type": "code",
   "execution_count": null,
   "metadata": {},
   "outputs": [],
   "source": []
  },
  {
   "cell_type": "code",
   "execution_count": null,
   "metadata": {},
   "outputs": [],
   "source": []
  },
  {
   "cell_type": "code",
   "execution_count": null,
   "metadata": {},
   "outputs": [],
   "source": []
  },
  {
   "cell_type": "code",
   "execution_count": null,
   "metadata": {},
   "outputs": [],
   "source": []
  },
  {
   "cell_type": "code",
   "execution_count": null,
   "metadata": {},
   "outputs": [],
   "source": []
  },
  {
   "cell_type": "code",
   "execution_count": null,
   "metadata": {},
   "outputs": [],
   "source": []
  },
  {
   "cell_type": "code",
   "execution_count": null,
   "metadata": {},
   "outputs": [],
   "source": []
  },
  {
   "cell_type": "code",
   "execution_count": null,
   "metadata": {},
   "outputs": [],
   "source": []
  },
  {
   "cell_type": "code",
   "execution_count": null,
   "metadata": {},
   "outputs": [],
   "source": []
  },
  {
   "cell_type": "code",
   "execution_count": null,
   "metadata": {},
   "outputs": [],
   "source": []
  },
  {
   "cell_type": "code",
   "execution_count": null,
   "metadata": {},
   "outputs": [],
   "source": []
  },
  {
   "cell_type": "code",
   "execution_count": null,
   "metadata": {},
   "outputs": [],
   "source": []
  },
  {
   "cell_type": "code",
   "execution_count": null,
   "metadata": {},
   "outputs": [],
   "source": []
  },
  {
   "cell_type": "code",
   "execution_count": null,
   "metadata": {},
   "outputs": [],
   "source": []
  },
  {
   "cell_type": "code",
   "execution_count": null,
   "metadata": {},
   "outputs": [],
   "source": []
  },
  {
   "cell_type": "code",
   "execution_count": null,
   "metadata": {},
   "outputs": [],
   "source": []
  },
  {
   "cell_type": "code",
   "execution_count": null,
   "metadata": {},
   "outputs": [],
   "source": []
  },
  {
   "cell_type": "code",
   "execution_count": null,
   "metadata": {},
   "outputs": [],
   "source": []
  },
  {
   "cell_type": "code",
   "execution_count": null,
   "metadata": {},
   "outputs": [],
   "source": []
  },
  {
   "cell_type": "code",
   "execution_count": null,
   "metadata": {},
   "outputs": [],
   "source": []
  },
  {
   "cell_type": "markdown",
   "metadata": {},
   "source": []
  },
  {
   "cell_type": "code",
   "execution_count": null,
   "metadata": {},
   "outputs": [],
   "source": []
  },
  {
   "cell_type": "code",
   "execution_count": null,
   "metadata": {},
   "outputs": [],
   "source": []
  },
  {
   "cell_type": "code",
   "execution_count": null,
   "metadata": {},
   "outputs": [],
   "source": []
  },
  {
   "cell_type": "code",
   "execution_count": null,
   "metadata": {},
   "outputs": [],
   "source": []
  },
  {
   "cell_type": "code",
   "execution_count": null,
   "metadata": {},
   "outputs": [],
   "source": []
  },
  {
   "cell_type": "code",
   "execution_count": null,
   "metadata": {},
   "outputs": [],
   "source": []
  },
  {
   "cell_type": "code",
   "execution_count": null,
   "metadata": {},
   "outputs": [],
   "source": []
  },
  {
   "cell_type": "code",
   "execution_count": null,
   "metadata": {},
   "outputs": [],
   "source": []
  },
  {
   "cell_type": "code",
   "execution_count": null,
   "metadata": {},
   "outputs": [],
   "source": []
  },
  {
   "cell_type": "code",
   "execution_count": null,
   "metadata": {},
   "outputs": [],
   "source": []
  },
  {
   "cell_type": "code",
   "execution_count": null,
   "metadata": {},
   "outputs": [],
   "source": []
  },
  {
   "cell_type": "code",
   "execution_count": null,
   "metadata": {},
   "outputs": [],
   "source": []
  },
  {
   "cell_type": "code",
   "execution_count": null,
   "metadata": {},
   "outputs": [],
   "source": []
  },
  {
   "cell_type": "code",
   "execution_count": null,
   "metadata": {},
   "outputs": [],
   "source": []
  },
  {
   "cell_type": "code",
   "execution_count": null,
   "metadata": {},
   "outputs": [],
   "source": []
  },
  {
   "cell_type": "code",
   "execution_count": null,
   "metadata": {},
   "outputs": [],
   "source": []
  },
  {
   "cell_type": "code",
   "execution_count": null,
   "metadata": {},
   "outputs": [],
   "source": []
  },
  {
   "cell_type": "code",
   "execution_count": null,
   "metadata": {},
   "outputs": [],
   "source": []
  },
  {
   "cell_type": "code",
   "execution_count": null,
   "metadata": {},
   "outputs": [],
   "source": []
  },
  {
   "cell_type": "code",
   "execution_count": null,
   "metadata": {},
   "outputs": [],
   "source": []
  },
  {
   "cell_type": "code",
   "execution_count": null,
   "metadata": {},
   "outputs": [],
   "source": []
  },
  {
   "cell_type": "code",
   "execution_count": null,
   "metadata": {},
   "outputs": [],
   "source": []
  }
 ],
 "metadata": {
  "kernelspec": {
   "display_name": "Python 3",
   "language": "python",
   "name": "python3"
  },
  "language_info": {
   "codemirror_mode": {
    "name": "ipython",
    "version": 3
   },
   "file_extension": ".py",
   "mimetype": "text/x-python",
   "name": "python",
   "nbconvert_exporter": "python",
   "pygments_lexer": "ipython3",
   "version": "3.12.5"
  }
 },
 "nbformat": 4,
 "nbformat_minor": 2
}
